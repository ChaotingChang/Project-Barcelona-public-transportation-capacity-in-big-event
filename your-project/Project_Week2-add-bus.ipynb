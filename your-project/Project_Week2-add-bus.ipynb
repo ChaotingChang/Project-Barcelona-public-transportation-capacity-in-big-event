{
 "cells": [
  {
   "cell_type": "code",
   "execution_count": 66,
   "metadata": {
    "extensions": {
     "jupyter_dashboards": {
      "version": 1,
      "views": {
       "grid_default": {},
       "report_default": {
        "hidden": true
       }
      }
     }
    }
   },
   "outputs": [],
   "source": [
    "import numpy as np\n",
    "import pandas as pd"
   ]
  },
  {
   "cell_type": "code",
   "execution_count": 67,
   "metadata": {
    "extensions": {
     "jupyter_dashboards": {
      "version": 1,
      "views": {
       "grid_default": {},
       "report_default": {
        "hidden": true
       }
      }
     }
    }
   },
   "outputs": [],
   "source": [
    "# Read data\n",
    "df = pd.read_csv(\"/home/chao/Desktop/Ironhack/Projects/Project-Week-2-Transporte/Project-Week-2-Barcelona/datasets/combined1.csv\")"
   ]
  },
  {
   "cell_type": "code",
   "execution_count": null,
   "metadata": {
    "extensions": {
     "jupyter_dashboards": {
      "version": 1,
      "views": {
       "grid_default": {},
       "report_default": {
        "hidden": false
       }
      }
     }
    }
   },
   "outputs": [],
   "source": [
    "df.head()"
   ]
  },
  {
   "cell_type": "code",
   "execution_count": null,
   "metadata": {
    "extensions": {
     "jupyter_dashboards": {
      "version": 1,
      "views": {
       "grid_default": {},
       "report_default": {
        "hidden": false
       }
      }
     }
    }
   },
   "outputs": [],
   "source": [
    "# check the dataframe type\n",
    "df.dtypes"
   ]
  },
  {
   "cell_type": "code",
   "execution_count": 68,
   "metadata": {
    "extensions": {
     "jupyter_dashboards": {
      "version": 1,
      "views": {
       "grid_default": {},
       "report_default": {
        "hidden": true
       }
      }
     }
    }
   },
   "outputs": [],
   "source": [
    "# Convert columns to desire type, here we use timedelta, \n",
    "# I had tried with datetime, but there was problem of replace the wrong hour data\n",
    "\n",
    "df.departure_time = pd.to_timedelta(df.departure_time)\n",
    "df.arrival_time = pd.to_timedelta(df.arrival_time)\n",
    "df = df.astype({\"stop_id\":object})"
   ]
  },
  {
   "cell_type": "code",
   "execution_count": null,
   "metadata": {
    "extensions": {
     "jupyter_dashboards": {
      "version": 1,
      "views": {
       "grid_default": {},
       "report_default": {
        "hidden": false
       }
      }
     }
    }
   },
   "outputs": [],
   "source": [
    "# check the dataframe type\n",
    "df.dtypes"
   ]
  },
  {
   "cell_type": "code",
   "execution_count": null,
   "metadata": {
    "extensions": {
     "jupyter_dashboards": {
      "version": 1,
      "views": {
       "grid_default": {},
       "report_default": {
        "hidden": false
       }
      }
     }
    }
   },
   "outputs": [],
   "source": [
    "# check how many trip records we have\n",
    "len(df.trip_id.unique())"
   ]
  },
  {
   "cell_type": "code",
   "execution_count": null,
   "metadata": {
    "extensions": {
     "jupyter_dashboards": {
      "version": 1,
      "views": {
       "grid_default": {},
       "report_default": {
        "hidden": false
       }
      }
     }
    }
   },
   "outputs": [],
   "source": [
    "# check how many routes (metro and bus) we have\n",
    "route_name = df.route_name.unique()\n",
    "route_name"
   ]
  },
  {
   "cell_type": "code",
   "execution_count": 69,
   "metadata": {
    "extensions": {
     "jupyter_dashboards": {
      "version": 1,
      "views": {
       "grid_default": {},
       "report_default": {
        "hidden": true
       }
      }
     }
    }
   },
   "outputs": [],
   "source": [
    "# create a new column where if if stop_sequence is 0, meaning that this is the start point\n",
    "df[\"start_stop\"] = df[\"stop_sequence\"].apply(lambda x:x==1)"
   ]
  },
  {
   "cell_type": "code",
   "execution_count": 70,
   "metadata": {
    "extensions": {
     "jupyter_dashboards": {
      "version": 1,
      "views": {
       "grid_default": {},
       "report_default": {
        "hidden": true
       }
      }
     }
    }
   },
   "outputs": [],
   "source": [
    "# subset of each routes\n",
    "\n",
    "df_L5 = df[df.route_name==\"L5\"]\n",
    "df_L4 = df[df.route_name==\"L4\"]\n",
    "df_L3 = df[df.route_name==\"L3\"]\n",
    "df_L2 = df[df.route_name==\"L2\"]\n",
    "df_L1 = df[df.route_name==\"L1\"]\n",
    "df_63 = df[df.route_name==\"63\"]\n",
    "df_65 = df[df.route_name==\"65\"]\n",
    "df_124 = df[df.route_name==\"124\"]\n",
    "df_125 = df[df.route_name==\"125\"]\n",
    "df_126 = df[df.route_name==\"126\"]\n",
    "df_127 = df[df.route_name==\"127\"]\n",
    "df_H6 = df[df.route_name==\"H6\"]\n",
    "df_H12 = df[df.route_name==\"H12\"]\n",
    "df_V19 = df[df.route_name==\"V19\"]\n",
    "df_D20 = df[df.route_name==\"D20\"]"
   ]
  },
  {
   "cell_type": "code",
   "execution_count": null,
   "metadata": {
    "extensions": {
     "jupyter_dashboards": {
      "version": 1,
      "views": {
       "grid_default": {},
       "report_default": {
        "hidden": false
       }
      }
     }
    }
   },
   "outputs": [],
   "source": [
    "df_D20.head()"
   ]
  },
  {
   "cell_type": "code",
   "execution_count": 71,
   "metadata": {
    "extensions": {
     "jupyter_dashboards": {
      "version": 1,
      "views": {
       "grid_default": {},
       "report_default": {
        "hidden": true
       }
      }
     }
    }
   },
   "outputs": [],
   "source": [
    "import sys\n",
    "\n",
    "if not sys.warnoptions:\n",
    "    import warnings\n",
    "    warnings.simplefilter(\"ignore\")\n",
    "\n",
    "# Similar to previous where we find the start point, here we find the end point.\n",
    "    \n",
    "df_L1[\"destination\"] = df[\"stop_sequence\"].apply(lambda x:x==30)\n",
    "df_L2[\"destination\"] = df[\"stop_sequence\"].apply(lambda x:x==18)\n",
    "df_L3[\"destination\"] = df[\"stop_sequence\"].apply(lambda x:x==26)\n",
    "df_L4[\"destination\"] = df[\"stop_sequence\"].apply(lambda x:x==22)\n",
    "df_L5[\"destination\"] = df[\"stop_sequence\"].apply(lambda x:x==26)\n",
    "df_63[\"destination\"] = df[\"stop_sequence\"].apply(lambda x:x==35)\n",
    "df_65[\"destination\"] = df[\"stop_sequence\"].apply(lambda x:x==33)\n",
    "df_124[\"destination\"] = df[\"stop_sequence\"].apply(lambda x:x==17)\n",
    "df_125[\"destination\"] = df[\"stop_sequence\"].apply(lambda x:x==21)\n",
    "df_126[\"destination\"] = df[\"stop_sequence\"].apply(lambda x:x==19)\n",
    "df_127[\"destination\"] = df[\"stop_sequence\"].apply(lambda x:x==26)\n",
    "df_H6[\"destination\"] = df[\"stop_sequence\"].apply(lambda x:x==30)\n",
    "df_H12[\"destination\"] = df[\"stop_sequence\"].apply(lambda x:x==34)\n",
    "df_V19[\"destination\"] = df[\"stop_sequence\"].apply(lambda x:x==38)\n",
    "df_D20[\"destination\"] = df[\"stop_sequence\"].apply(lambda x:x==30)\n"
   ]
  },
  {
   "cell_type": "markdown",
   "metadata": {
    "extensions": {
     "jupyter_dashboards": {
      "version": 1,
      "views": {
       "grid_default": {},
       "report_default": {
        "hidden": false
       }
      }
     }
    }
   },
   "source": [
    "## L1"
   ]
  },
  {
   "cell_type": "code",
   "execution_count": null,
   "metadata": {
    "extensions": {
     "jupyter_dashboards": {
      "version": 1,
      "views": {
       "grid_default": {},
       "report_default": {
        "hidden": false
       }
      }
     }
    }
   },
   "outputs": [],
   "source": [
    "df_L1.describe()"
   ]
  },
  {
   "cell_type": "code",
   "execution_count": 72,
   "metadata": {
    "extensions": {
     "jupyter_dashboards": {
      "version": 1,
      "views": {
       "grid_default": {},
       "report_default": {
        "hidden": true
       }
      }
     }
    }
   },
   "outputs": [],
   "source": [
    "# To extract only rows of start point and end point separately and then combined them together. \n",
    "#Sort it by trip and reset their index\n",
    "df_L1_a = df_L1[(df_L1[\"start_stop\"] == True)]\n",
    "df_L1_b = df_L1[(df_L1[\"destination\"] == True)]\n",
    "df_L1_full = pd.concat([df_L1_a, df_L1_b]).sort_values(by=['trip_id'])\n",
    "df_L1_full =df_L1_full.reset_index(drop=True)"
   ]
  },
  {
   "cell_type": "code",
   "execution_count": null,
   "metadata": {
    "extensions": {
     "jupyter_dashboards": {
      "version": 1,
      "views": {
       "grid_default": {},
       "report_default": {
        "hidden": false
       }
      }
     }
    }
   },
   "outputs": [],
   "source": [
    "df_L1_full.head()"
   ]
  },
  {
   "cell_type": "code",
   "execution_count": 73,
   "metadata": {
    "extensions": {
     "jupyter_dashboards": {
      "version": 1,
      "views": {
       "grid_default": {},
       "report_default": {
        "hidden": true
       }
      }
     }
    },
    "scrolled": false
   },
   "outputs": [],
   "source": [
    "# Create a list. Loop over the dataframe and calculate the total travelling time.\n",
    "travelling_time_L1 = []\n",
    "for i in range(df_L1_full.shape[0]-1):\n",
    "    if df_L1_full.trip_id[i] == df_L1_full.trip_id[i+1]:       \n",
    "        time_interval = df_L1_full.departure_time[i].components.hours\n",
    "        total_travelling_time = df_L1_full.arrival_time[i+1] -df_L1_full.arrival_time[i]\n",
    "        x = [time_interval,total_travelling_time]\n",
    "        travelling_time_L1.append(x)\n"
   ]
  },
  {
   "cell_type": "code",
   "execution_count": null,
   "metadata": {
    "extensions": {
     "jupyter_dashboards": {
      "version": 1,
      "views": {
       "grid_default": {},
       "report_default": {
        "hidden": false
       }
      }
     }
    }
   },
   "outputs": [],
   "source": [
    "df_L1_full.head()"
   ]
  },
  {
   "cell_type": "code",
   "execution_count": 74,
   "metadata": {
    "extensions": {
     "jupyter_dashboards": {
      "version": 1,
      "views": {
       "grid_default": {},
       "report_default": {
        "hidden": false
       }
      }
     }
    }
   },
   "outputs": [],
   "source": [
    "# Convert the list into dataframe\n",
    "travelling_time_L1 = pd.DataFrame(travelling_time_L1)\n",
    "\n",
    "# Change the column name\n",
    "travelling_time_L1.columns = [\"L1_day_hour\", \"total_travelling_time\"]"
   ]
  },
  {
   "cell_type": "code",
   "execution_count": 75,
   "metadata": {
    "extensions": {
     "jupyter_dashboards": {
      "version": 1,
      "views": {
       "grid_default": {},
       "report_default": {
        "hidden": false
       }
      }
     }
    }
   },
   "outputs": [
    {
     "data": {
      "text/html": [
       "<div>\n",
       "<style scoped>\n",
       "    .dataframe tbody tr th:only-of-type {\n",
       "        vertical-align: middle;\n",
       "    }\n",
       "\n",
       "    .dataframe tbody tr th {\n",
       "        vertical-align: top;\n",
       "    }\n",
       "\n",
       "    .dataframe thead th {\n",
       "        text-align: right;\n",
       "    }\n",
       "</style>\n",
       "<table border=\"1\" class=\"dataframe\">\n",
       "  <thead>\n",
       "    <tr style=\"text-align: right;\">\n",
       "      <th></th>\n",
       "      <th>L1_day_hour</th>\n",
       "      <th>total_travelling_time</th>\n",
       "    </tr>\n",
       "  </thead>\n",
       "  <tbody>\n",
       "    <tr>\n",
       "      <th>count</th>\n",
       "      <td>233.000000</td>\n",
       "      <td>233.000000</td>\n",
       "    </tr>\n",
       "    <tr>\n",
       "      <th>mean</th>\n",
       "      <td>13.175966</td>\n",
       "      <td>44.610157</td>\n",
       "    </tr>\n",
       "    <tr>\n",
       "      <th>std</th>\n",
       "      <td>5.801228</td>\n",
       "      <td>0.698213</td>\n",
       "    </tr>\n",
       "    <tr>\n",
       "      <th>min</th>\n",
       "      <td>0.000000</td>\n",
       "      <td>43.816667</td>\n",
       "    </tr>\n",
       "    <tr>\n",
       "      <th>25%</th>\n",
       "      <td>8.000000</td>\n",
       "      <td>43.900000</td>\n",
       "    </tr>\n",
       "    <tr>\n",
       "      <th>50%</th>\n",
       "      <td>13.000000</td>\n",
       "      <td>44.900000</td>\n",
       "    </tr>\n",
       "    <tr>\n",
       "      <th>75%</th>\n",
       "      <td>18.000000</td>\n",
       "      <td>45.350000</td>\n",
       "    </tr>\n",
       "    <tr>\n",
       "      <th>max</th>\n",
       "      <td>23.000000</td>\n",
       "      <td>45.533333</td>\n",
       "    </tr>\n",
       "  </tbody>\n",
       "</table>\n",
       "</div>"
      ],
      "text/plain": [
       "       L1_day_hour  total_travelling_time\n",
       "count   233.000000             233.000000\n",
       "mean     13.175966              44.610157\n",
       "std       5.801228               0.698213\n",
       "min       0.000000              43.816667\n",
       "25%       8.000000              43.900000\n",
       "50%      13.000000              44.900000\n",
       "75%      18.000000              45.350000\n",
       "max      23.000000              45.533333"
      ]
     },
     "execution_count": 75,
     "metadata": {},
     "output_type": "execute_result"
    }
   ],
   "source": [
    "# convert the timedelta data into minutes, convert it to float and absolute value.\n",
    "travelling_time_L1[\"total_travelling_time\"] = travelling_time_L1[\"total_travelling_time\"]/pd.Timedelta('1 minutes')\n",
    "travelling_time_L1[\"total_travelling_time\"] = travelling_time_L1[\"total_travelling_time\"].astype(float)\n",
    "travelling_time_L1[\"total_travelling_time\"] = travelling_time_L1[\"total_travelling_time\"].abs()\n",
    "travelling_time_L1.describe()\n"
   ]
  },
  {
   "cell_type": "code",
   "execution_count": 76,
   "metadata": {
    "extensions": {
     "jupyter_dashboards": {
      "version": 1,
      "views": {
       "grid_default": {},
       "report_default": {
        "hidden": false
       }
      }
     }
    },
    "scrolled": true
   },
   "outputs": [
    {
     "data": {
      "text/html": [
       "<div>\n",
       "<style scoped>\n",
       "    .dataframe tbody tr th:only-of-type {\n",
       "        vertical-align: middle;\n",
       "    }\n",
       "\n",
       "    .dataframe tbody tr th {\n",
       "        vertical-align: top;\n",
       "    }\n",
       "\n",
       "    .dataframe thead th {\n",
       "        text-align: right;\n",
       "    }\n",
       "</style>\n",
       "<table border=\"1\" class=\"dataframe\">\n",
       "  <thead>\n",
       "    <tr style=\"text-align: right;\">\n",
       "      <th></th>\n",
       "      <th>total_traveling_time</th>\n",
       "      <th>hourly_train_number</th>\n",
       "    </tr>\n",
       "    <tr>\n",
       "      <th>L1_day_hour</th>\n",
       "      <th></th>\n",
       "      <th></th>\n",
       "    </tr>\n",
       "  </thead>\n",
       "  <tbody>\n",
       "    <tr>\n",
       "      <th>0</th>\n",
       "      <td>44.141667</td>\n",
       "      <td>4</td>\n",
       "    </tr>\n",
       "    <tr>\n",
       "      <th>1</th>\n",
       "      <td>44.763333</td>\n",
       "      <td>5</td>\n",
       "    </tr>\n",
       "    <tr>\n",
       "      <th>2</th>\n",
       "      <td>45.000000</td>\n",
       "      <td>2</td>\n",
       "    </tr>\n",
       "    <tr>\n",
       "      <th>4</th>\n",
       "      <td>45.000000</td>\n",
       "      <td>2</td>\n",
       "    </tr>\n",
       "    <tr>\n",
       "      <th>5</th>\n",
       "      <td>44.311111</td>\n",
       "      <td>3</td>\n",
       "    </tr>\n",
       "    <tr>\n",
       "      <th>6</th>\n",
       "      <td>45.155556</td>\n",
       "      <td>15</td>\n",
       "    </tr>\n",
       "    <tr>\n",
       "      <th>7</th>\n",
       "      <td>45.410256</td>\n",
       "      <td>13</td>\n",
       "    </tr>\n",
       "    <tr>\n",
       "      <th>8</th>\n",
       "      <td>45.435556</td>\n",
       "      <td>15</td>\n",
       "    </tr>\n",
       "    <tr>\n",
       "      <th>9</th>\n",
       "      <td>45.211111</td>\n",
       "      <td>9</td>\n",
       "    </tr>\n",
       "    <tr>\n",
       "      <th>10</th>\n",
       "      <td>44.797500</td>\n",
       "      <td>20</td>\n",
       "    </tr>\n",
       "    <tr>\n",
       "      <th>11</th>\n",
       "      <td>44.186111</td>\n",
       "      <td>6</td>\n",
       "    </tr>\n",
       "    <tr>\n",
       "      <th>12</th>\n",
       "      <td>43.858333</td>\n",
       "      <td>12</td>\n",
       "    </tr>\n",
       "    <tr>\n",
       "      <th>13</th>\n",
       "      <td>43.854545</td>\n",
       "      <td>11</td>\n",
       "    </tr>\n",
       "    <tr>\n",
       "      <th>14</th>\n",
       "      <td>44.125641</td>\n",
       "      <td>13</td>\n",
       "    </tr>\n",
       "    <tr>\n",
       "      <th>15</th>\n",
       "      <td>44.130556</td>\n",
       "      <td>12</td>\n",
       "    </tr>\n",
       "    <tr>\n",
       "      <th>16</th>\n",
       "      <td>43.972727</td>\n",
       "      <td>11</td>\n",
       "    </tr>\n",
       "    <tr>\n",
       "      <th>17</th>\n",
       "      <td>44.037179</td>\n",
       "      <td>13</td>\n",
       "    </tr>\n",
       "    <tr>\n",
       "      <th>18</th>\n",
       "      <td>44.641111</td>\n",
       "      <td>15</td>\n",
       "    </tr>\n",
       "    <tr>\n",
       "      <th>19</th>\n",
       "      <td>44.741111</td>\n",
       "      <td>15</td>\n",
       "    </tr>\n",
       "    <tr>\n",
       "      <th>20</th>\n",
       "      <td>44.851852</td>\n",
       "      <td>9</td>\n",
       "    </tr>\n",
       "    <tr>\n",
       "      <th>21</th>\n",
       "      <td>44.788462</td>\n",
       "      <td>13</td>\n",
       "    </tr>\n",
       "    <tr>\n",
       "      <th>22</th>\n",
       "      <td>44.446296</td>\n",
       "      <td>9</td>\n",
       "    </tr>\n",
       "    <tr>\n",
       "      <th>23</th>\n",
       "      <td>44.822222</td>\n",
       "      <td>6</td>\n",
       "    </tr>\n",
       "  </tbody>\n",
       "</table>\n",
       "</div>"
      ],
      "text/plain": [
       "             total_traveling_time  hourly_train_number\n",
       "L1_day_hour                                           \n",
       "0                       44.141667                    4\n",
       "1                       44.763333                    5\n",
       "2                       45.000000                    2\n",
       "4                       45.000000                    2\n",
       "5                       44.311111                    3\n",
       "6                       45.155556                   15\n",
       "7                       45.410256                   13\n",
       "8                       45.435556                   15\n",
       "9                       45.211111                    9\n",
       "10                      44.797500                   20\n",
       "11                      44.186111                    6\n",
       "12                      43.858333                   12\n",
       "13                      43.854545                   11\n",
       "14                      44.125641                   13\n",
       "15                      44.130556                   12\n",
       "16                      43.972727                   11\n",
       "17                      44.037179                   13\n",
       "18                      44.641111                   15\n",
       "19                      44.741111                   15\n",
       "20                      44.851852                    9\n",
       "21                      44.788462                   13\n",
       "22                      44.446296                    9\n",
       "23                      44.822222                    6"
      ]
     },
     "execution_count": 76,
     "metadata": {},
     "output_type": "execute_result"
    }
   ],
   "source": [
    "# Calculate the mean travelling time by each hour\n",
    "L1_time = travelling_time_L1.groupby([\"L1_day_hour\"]).mean()\n",
    "L1_freq = travelling_time_L1.groupby([\"L1_day_hour\"]).count()\n",
    "L1_resume = pd.concat([L1_time, L1_freq], axis = 1)\n",
    "L1_resume.columns = [\"total_traveling_time\",\"hourly_train_number\"]\n",
    "L1_resume"
   ]
  },
  {
   "cell_type": "markdown",
   "metadata": {
    "extensions": {
     "jupyter_dashboards": {
      "version": 1,
      "views": {
       "grid_default": {},
       "report_default": {
        "hidden": false
       }
      }
     }
    }
   },
   "source": [
    "## L2"
   ]
  },
  {
   "cell_type": "code",
   "execution_count": 77,
   "metadata": {
    "extensions": {
     "jupyter_dashboards": {
      "version": 1,
      "views": {
       "grid_default": {},
       "report_default": {
        "hidden": false
       }
      }
     }
    }
   },
   "outputs": [
    {
     "data": {
      "text/html": [
       "<div>\n",
       "<style scoped>\n",
       "    .dataframe tbody tr th:only-of-type {\n",
       "        vertical-align: middle;\n",
       "    }\n",
       "\n",
       "    .dataframe tbody tr th {\n",
       "        vertical-align: top;\n",
       "    }\n",
       "\n",
       "    .dataframe thead th {\n",
       "        text-align: right;\n",
       "    }\n",
       "</style>\n",
       "<table border=\"1\" class=\"dataframe\">\n",
       "  <thead>\n",
       "    <tr style=\"text-align: right;\">\n",
       "      <th></th>\n",
       "      <th>total_traveling_time</th>\n",
       "      <th>hourly_train_number</th>\n",
       "    </tr>\n",
       "    <tr>\n",
       "      <th>L2_day_hour</th>\n",
       "      <th></th>\n",
       "      <th></th>\n",
       "    </tr>\n",
       "  </thead>\n",
       "  <tbody>\n",
       "    <tr>\n",
       "      <th>0</th>\n",
       "      <td>27.550000</td>\n",
       "      <td>4</td>\n",
       "    </tr>\n",
       "    <tr>\n",
       "      <th>1</th>\n",
       "      <td>27.394444</td>\n",
       "      <td>3</td>\n",
       "    </tr>\n",
       "    <tr>\n",
       "      <th>2</th>\n",
       "      <td>28.016667</td>\n",
       "      <td>1</td>\n",
       "    </tr>\n",
       "    <tr>\n",
       "      <th>5</th>\n",
       "      <td>28.419444</td>\n",
       "      <td>6</td>\n",
       "    </tr>\n",
       "    <tr>\n",
       "      <th>6</th>\n",
       "      <td>28.490000</td>\n",
       "      <td>5</td>\n",
       "    </tr>\n",
       "    <tr>\n",
       "      <th>7</th>\n",
       "      <td>28.640909</td>\n",
       "      <td>11</td>\n",
       "    </tr>\n",
       "    <tr>\n",
       "      <th>8</th>\n",
       "      <td>28.393750</td>\n",
       "      <td>8</td>\n",
       "    </tr>\n",
       "    <tr>\n",
       "      <th>9</th>\n",
       "      <td>28.703571</td>\n",
       "      <td>14</td>\n",
       "    </tr>\n",
       "    <tr>\n",
       "      <th>10</th>\n",
       "      <td>28.406667</td>\n",
       "      <td>10</td>\n",
       "    </tr>\n",
       "    <tr>\n",
       "      <th>11</th>\n",
       "      <td>28.186667</td>\n",
       "      <td>10</td>\n",
       "    </tr>\n",
       "    <tr>\n",
       "      <th>12</th>\n",
       "      <td>28.133333</td>\n",
       "      <td>8</td>\n",
       "    </tr>\n",
       "    <tr>\n",
       "      <th>13</th>\n",
       "      <td>28.181818</td>\n",
       "      <td>11</td>\n",
       "    </tr>\n",
       "    <tr>\n",
       "      <th>14</th>\n",
       "      <td>28.102381</td>\n",
       "      <td>7</td>\n",
       "    </tr>\n",
       "    <tr>\n",
       "      <th>15</th>\n",
       "      <td>28.228571</td>\n",
       "      <td>7</td>\n",
       "    </tr>\n",
       "    <tr>\n",
       "      <th>16</th>\n",
       "      <td>28.068750</td>\n",
       "      <td>8</td>\n",
       "    </tr>\n",
       "    <tr>\n",
       "      <th>17</th>\n",
       "      <td>28.196296</td>\n",
       "      <td>9</td>\n",
       "    </tr>\n",
       "    <tr>\n",
       "      <th>18</th>\n",
       "      <td>28.366667</td>\n",
       "      <td>6</td>\n",
       "    </tr>\n",
       "    <tr>\n",
       "      <th>19</th>\n",
       "      <td>28.200000</td>\n",
       "      <td>9</td>\n",
       "    </tr>\n",
       "    <tr>\n",
       "      <th>20</th>\n",
       "      <td>28.266667</td>\n",
       "      <td>5</td>\n",
       "    </tr>\n",
       "    <tr>\n",
       "      <th>21</th>\n",
       "      <td>28.275000</td>\n",
       "      <td>4</td>\n",
       "    </tr>\n",
       "    <tr>\n",
       "      <th>22</th>\n",
       "      <td>27.673333</td>\n",
       "      <td>5</td>\n",
       "    </tr>\n",
       "    <tr>\n",
       "      <th>23</th>\n",
       "      <td>27.601852</td>\n",
       "      <td>9</td>\n",
       "    </tr>\n",
       "  </tbody>\n",
       "</table>\n",
       "</div>"
      ],
      "text/plain": [
       "             total_traveling_time  hourly_train_number\n",
       "L2_day_hour                                           \n",
       "0                       27.550000                    4\n",
       "1                       27.394444                    3\n",
       "2                       28.016667                    1\n",
       "5                       28.419444                    6\n",
       "6                       28.490000                    5\n",
       "7                       28.640909                   11\n",
       "8                       28.393750                    8\n",
       "9                       28.703571                   14\n",
       "10                      28.406667                   10\n",
       "11                      28.186667                   10\n",
       "12                      28.133333                    8\n",
       "13                      28.181818                   11\n",
       "14                      28.102381                    7\n",
       "15                      28.228571                    7\n",
       "16                      28.068750                    8\n",
       "17                      28.196296                    9\n",
       "18                      28.366667                    6\n",
       "19                      28.200000                    9\n",
       "20                      28.266667                    5\n",
       "21                      28.275000                    4\n",
       "22                      27.673333                    5\n",
       "23                      27.601852                    9"
      ]
     },
     "execution_count": 77,
     "metadata": {},
     "output_type": "execute_result"
    }
   ],
   "source": [
    "df_L2_a = df_L2[(df_L2[\"start_stop\"] == True)]\n",
    "df_L2_b = df_L2[(df_L2[\"destination\"] == True)]\n",
    "df_L2_full = pd.concat([df_L2_a, df_L2_b]).sort_values(by=['trip_id'])\n",
    "df_L2_full =df_L2_full.reset_index(drop=True)\n",
    "\n",
    "travelling_time_L2 = []\n",
    "for i in range(df_L2_full.shape[0]-1):\n",
    "    if df_L2_full.trip_id[i] == df_L2_full.trip_id[i+1]:       \n",
    "        time_interval = df_L2_full.departure_time[i].components.hours\n",
    "        total_travelling_time = df_L2_full.arrival_time[i+1] -df_L2_full.arrival_time[i]\n",
    "        x = [time_interval,total_travelling_time]\n",
    "        travelling_time_L2.append(x)\n",
    "\n",
    "travelling_time_L2 = pd.DataFrame(travelling_time_L2)\n",
    "travelling_time_L2.head()\n",
    "\n",
    "travelling_time_L2.columns = [\"L2_day_hour\", \"total_travelling_time\"]\n",
    "\n",
    "travelling_time_L2[\"total_travelling_time\"] = travelling_time_L2[\"total_travelling_time\"]/pd.Timedelta('1 minutes')\n",
    "travelling_time_L2[\"total_travelling_time\"] = travelling_time_L2[\"total_travelling_time\"].astype(float)\n",
    "travelling_time_L2[\"total_travelling_time\"] = travelling_time_L2[\"total_travelling_time\"].abs()\n",
    "travelling_time_L2.describe()\n",
    "\n",
    "L2_time = travelling_time_L2.groupby([\"L2_day_hour\"]).mean()\n",
    "L2_freq = travelling_time_L2.groupby([\"L2_day_hour\"]).count()\n",
    "L2_resume = pd.concat([L2_time, L2_freq], axis = 1)\n",
    "L2_resume.columns = [\"total_traveling_time\",\"hourly_train_number\"]\n",
    "L2_resume"
   ]
  },
  {
   "cell_type": "markdown",
   "metadata": {
    "extensions": {
     "jupyter_dashboards": {
      "version": 1,
      "views": {
       "grid_default": {},
       "report_default": {
        "hidden": false
       }
      }
     }
    }
   },
   "source": [
    "## L3"
   ]
  },
  {
   "cell_type": "code",
   "execution_count": 78,
   "metadata": {
    "extensions": {
     "jupyter_dashboards": {
      "version": 1,
      "views": {
       "grid_default": {},
       "report_default": {
        "hidden": false
       }
      }
     }
    }
   },
   "outputs": [
    {
     "data": {
      "text/html": [
       "<div>\n",
       "<style scoped>\n",
       "    .dataframe tbody tr th:only-of-type {\n",
       "        vertical-align: middle;\n",
       "    }\n",
       "\n",
       "    .dataframe tbody tr th {\n",
       "        vertical-align: top;\n",
       "    }\n",
       "\n",
       "    .dataframe thead th {\n",
       "        text-align: right;\n",
       "    }\n",
       "</style>\n",
       "<table border=\"1\" class=\"dataframe\">\n",
       "  <thead>\n",
       "    <tr style=\"text-align: right;\">\n",
       "      <th></th>\n",
       "      <th>total_traveling_time</th>\n",
       "      <th>hourly_train_number</th>\n",
       "    </tr>\n",
       "    <tr>\n",
       "      <th>L3_day_hour</th>\n",
       "      <th></th>\n",
       "      <th></th>\n",
       "    </tr>\n",
       "  </thead>\n",
       "  <tbody>\n",
       "    <tr>\n",
       "      <th>0</th>\n",
       "      <td>39.804762</td>\n",
       "      <td>7</td>\n",
       "    </tr>\n",
       "    <tr>\n",
       "      <th>1</th>\n",
       "      <td>39.747619</td>\n",
       "      <td>7</td>\n",
       "    </tr>\n",
       "    <tr>\n",
       "      <th>2</th>\n",
       "      <td>39.183333</td>\n",
       "      <td>2</td>\n",
       "    </tr>\n",
       "    <tr>\n",
       "      <th>4</th>\n",
       "      <td>40.166667</td>\n",
       "      <td>3</td>\n",
       "    </tr>\n",
       "    <tr>\n",
       "      <th>5</th>\n",
       "      <td>39.069048</td>\n",
       "      <td>7</td>\n",
       "    </tr>\n",
       "    <tr>\n",
       "      <th>6</th>\n",
       "      <td>40.292857</td>\n",
       "      <td>14</td>\n",
       "    </tr>\n",
       "    <tr>\n",
       "      <th>7</th>\n",
       "      <td>40.045455</td>\n",
       "      <td>11</td>\n",
       "    </tr>\n",
       "    <tr>\n",
       "      <th>8</th>\n",
       "      <td>40.590909</td>\n",
       "      <td>11</td>\n",
       "    </tr>\n",
       "    <tr>\n",
       "      <th>9</th>\n",
       "      <td>40.275439</td>\n",
       "      <td>19</td>\n",
       "    </tr>\n",
       "    <tr>\n",
       "      <th>10</th>\n",
       "      <td>40.380952</td>\n",
       "      <td>14</td>\n",
       "    </tr>\n",
       "    <tr>\n",
       "      <th>11</th>\n",
       "      <td>40.848148</td>\n",
       "      <td>9</td>\n",
       "    </tr>\n",
       "    <tr>\n",
       "      <th>12</th>\n",
       "      <td>40.216667</td>\n",
       "      <td>14</td>\n",
       "    </tr>\n",
       "    <tr>\n",
       "      <th>13</th>\n",
       "      <td>40.698039</td>\n",
       "      <td>17</td>\n",
       "    </tr>\n",
       "    <tr>\n",
       "      <th>14</th>\n",
       "      <td>40.340909</td>\n",
       "      <td>11</td>\n",
       "    </tr>\n",
       "    <tr>\n",
       "      <th>15</th>\n",
       "      <td>40.407576</td>\n",
       "      <td>22</td>\n",
       "    </tr>\n",
       "    <tr>\n",
       "      <th>16</th>\n",
       "      <td>40.192222</td>\n",
       "      <td>15</td>\n",
       "    </tr>\n",
       "    <tr>\n",
       "      <th>17</th>\n",
       "      <td>40.247436</td>\n",
       "      <td>13</td>\n",
       "    </tr>\n",
       "    <tr>\n",
       "      <th>18</th>\n",
       "      <td>40.194444</td>\n",
       "      <td>15</td>\n",
       "    </tr>\n",
       "    <tr>\n",
       "      <th>19</th>\n",
       "      <td>39.826667</td>\n",
       "      <td>10</td>\n",
       "    </tr>\n",
       "    <tr>\n",
       "      <th>20</th>\n",
       "      <td>40.254444</td>\n",
       "      <td>15</td>\n",
       "    </tr>\n",
       "    <tr>\n",
       "      <th>21</th>\n",
       "      <td>40.070833</td>\n",
       "      <td>12</td>\n",
       "    </tr>\n",
       "    <tr>\n",
       "      <th>22</th>\n",
       "      <td>39.863333</td>\n",
       "      <td>10</td>\n",
       "    </tr>\n",
       "    <tr>\n",
       "      <th>23</th>\n",
       "      <td>40.147222</td>\n",
       "      <td>12</td>\n",
       "    </tr>\n",
       "  </tbody>\n",
       "</table>\n",
       "</div>"
      ],
      "text/plain": [
       "             total_traveling_time  hourly_train_number\n",
       "L3_day_hour                                           \n",
       "0                       39.804762                    7\n",
       "1                       39.747619                    7\n",
       "2                       39.183333                    2\n",
       "4                       40.166667                    3\n",
       "5                       39.069048                    7\n",
       "6                       40.292857                   14\n",
       "7                       40.045455                   11\n",
       "8                       40.590909                   11\n",
       "9                       40.275439                   19\n",
       "10                      40.380952                   14\n",
       "11                      40.848148                    9\n",
       "12                      40.216667                   14\n",
       "13                      40.698039                   17\n",
       "14                      40.340909                   11\n",
       "15                      40.407576                   22\n",
       "16                      40.192222                   15\n",
       "17                      40.247436                   13\n",
       "18                      40.194444                   15\n",
       "19                      39.826667                   10\n",
       "20                      40.254444                   15\n",
       "21                      40.070833                   12\n",
       "22                      39.863333                   10\n",
       "23                      40.147222                   12"
      ]
     },
     "execution_count": 78,
     "metadata": {},
     "output_type": "execute_result"
    }
   ],
   "source": [
    "df_L3_a = df_L3[(df_L3[\"start_stop\"] == True)]\n",
    "df_L3_b = df_L3[(df_L3[\"destination\"] == True)]\n",
    "df_L3_full = pd.concat([df_L3_a, df_L3_b]).sort_values(by=['trip_id'])\n",
    "df_L3_full =df_L3_full.reset_index(drop=True)\n",
    "\n",
    "travelling_time_L3 = []\n",
    "for i in range(df_L3_full.shape[0]-1):\n",
    "    if df_L3_full.trip_id[i] == df_L3_full.trip_id[i+1]:       \n",
    "        time_interval = df_L3_full.departure_time[i].components.hours\n",
    "        total_travelling_time = df_L3_full.arrival_time[i+1] -df_L3_full.arrival_time[i]\n",
    "        x = [time_interval,total_travelling_time]\n",
    "        travelling_time_L3.append(x)\n",
    "\n",
    "travelling_time_L3 = pd.DataFrame(travelling_time_L3)\n",
    "travelling_time_L3.head()\n",
    "\n",
    "travelling_time_L3.columns = [\"L3_day_hour\", \"total_travelling_time\"]\n",
    "\n",
    "travelling_time_L3[\"total_travelling_time\"] = travelling_time_L3[\"total_travelling_time\"]/pd.Timedelta('1 minutes')\n",
    "travelling_time_L3[\"total_travelling_time\"] = travelling_time_L3[\"total_travelling_time\"].astype(float)\n",
    "travelling_time_L3[\"total_travelling_time\"] = travelling_time_L3[\"total_travelling_time\"].abs()\n",
    "travelling_time_L3.describe()\n",
    "\n",
    "L3_time = travelling_time_L3.groupby([\"L3_day_hour\"]).mean()\n",
    "L3_freq = travelling_time_L3.groupby([\"L3_day_hour\"]).count()\n",
    "L3_resume = pd.concat([L3_time, L3_freq], axis = 1)\n",
    "L3_resume.columns = [\"total_traveling_time\",\"hourly_train_number\"]\n",
    "L3_resume"
   ]
  },
  {
   "cell_type": "markdown",
   "metadata": {
    "extensions": {
     "jupyter_dashboards": {
      "version": 1,
      "views": {
       "grid_default": {},
       "report_default": {
        "hidden": false
       }
      }
     }
    }
   },
   "source": [
    "## L4"
   ]
  },
  {
   "cell_type": "code",
   "execution_count": 79,
   "metadata": {
    "extensions": {
     "jupyter_dashboards": {
      "version": 1,
      "views": {
       "grid_default": {},
       "report_default": {
        "hidden": false
       }
      }
     }
    }
   },
   "outputs": [
    {
     "data": {
      "text/html": [
       "<div>\n",
       "<style scoped>\n",
       "    .dataframe tbody tr th:only-of-type {\n",
       "        vertical-align: middle;\n",
       "    }\n",
       "\n",
       "    .dataframe tbody tr th {\n",
       "        vertical-align: top;\n",
       "    }\n",
       "\n",
       "    .dataframe thead th {\n",
       "        text-align: right;\n",
       "    }\n",
       "</style>\n",
       "<table border=\"1\" class=\"dataframe\">\n",
       "  <thead>\n",
       "    <tr style=\"text-align: right;\">\n",
       "      <th></th>\n",
       "      <th>total_traveling_time</th>\n",
       "      <th>hourly_train_number</th>\n",
       "    </tr>\n",
       "    <tr>\n",
       "      <th>L4_day_hour</th>\n",
       "      <th></th>\n",
       "      <th></th>\n",
       "    </tr>\n",
       "  </thead>\n",
       "  <tbody>\n",
       "    <tr>\n",
       "      <th>0</th>\n",
       "      <td>35.0</td>\n",
       "      <td>8</td>\n",
       "    </tr>\n",
       "    <tr>\n",
       "      <th>1</th>\n",
       "      <td>35.0</td>\n",
       "      <td>9</td>\n",
       "    </tr>\n",
       "    <tr>\n",
       "      <th>2</th>\n",
       "      <td>35.0</td>\n",
       "      <td>4</td>\n",
       "    </tr>\n",
       "    <tr>\n",
       "      <th>3</th>\n",
       "      <td>35.0</td>\n",
       "      <td>3</td>\n",
       "    </tr>\n",
       "    <tr>\n",
       "      <th>4</th>\n",
       "      <td>35.0</td>\n",
       "      <td>2</td>\n",
       "    </tr>\n",
       "    <tr>\n",
       "      <th>5</th>\n",
       "      <td>35.0</td>\n",
       "      <td>10</td>\n",
       "    </tr>\n",
       "    <tr>\n",
       "      <th>6</th>\n",
       "      <td>35.0</td>\n",
       "      <td>12</td>\n",
       "    </tr>\n",
       "    <tr>\n",
       "      <th>7</th>\n",
       "      <td>35.0</td>\n",
       "      <td>10</td>\n",
       "    </tr>\n",
       "    <tr>\n",
       "      <th>8</th>\n",
       "      <td>35.0</td>\n",
       "      <td>11</td>\n",
       "    </tr>\n",
       "    <tr>\n",
       "      <th>9</th>\n",
       "      <td>35.0</td>\n",
       "      <td>12</td>\n",
       "    </tr>\n",
       "    <tr>\n",
       "      <th>10</th>\n",
       "      <td>35.0</td>\n",
       "      <td>10</td>\n",
       "    </tr>\n",
       "    <tr>\n",
       "      <th>11</th>\n",
       "      <td>35.0</td>\n",
       "      <td>12</td>\n",
       "    </tr>\n",
       "    <tr>\n",
       "      <th>12</th>\n",
       "      <td>35.0</td>\n",
       "      <td>13</td>\n",
       "    </tr>\n",
       "    <tr>\n",
       "      <th>13</th>\n",
       "      <td>35.0</td>\n",
       "      <td>16</td>\n",
       "    </tr>\n",
       "    <tr>\n",
       "      <th>14</th>\n",
       "      <td>35.0</td>\n",
       "      <td>12</td>\n",
       "    </tr>\n",
       "    <tr>\n",
       "      <th>15</th>\n",
       "      <td>35.0</td>\n",
       "      <td>12</td>\n",
       "    </tr>\n",
       "    <tr>\n",
       "      <th>16</th>\n",
       "      <td>35.0</td>\n",
       "      <td>14</td>\n",
       "    </tr>\n",
       "    <tr>\n",
       "      <th>17</th>\n",
       "      <td>35.0</td>\n",
       "      <td>17</td>\n",
       "    </tr>\n",
       "    <tr>\n",
       "      <th>18</th>\n",
       "      <td>35.0</td>\n",
       "      <td>14</td>\n",
       "    </tr>\n",
       "    <tr>\n",
       "      <th>19</th>\n",
       "      <td>35.0</td>\n",
       "      <td>16</td>\n",
       "    </tr>\n",
       "    <tr>\n",
       "      <th>20</th>\n",
       "      <td>35.0</td>\n",
       "      <td>19</td>\n",
       "    </tr>\n",
       "    <tr>\n",
       "      <th>21</th>\n",
       "      <td>35.0</td>\n",
       "      <td>20</td>\n",
       "    </tr>\n",
       "    <tr>\n",
       "      <th>22</th>\n",
       "      <td>35.0</td>\n",
       "      <td>10</td>\n",
       "    </tr>\n",
       "    <tr>\n",
       "      <th>23</th>\n",
       "      <td>35.0</td>\n",
       "      <td>11</td>\n",
       "    </tr>\n",
       "  </tbody>\n",
       "</table>\n",
       "</div>"
      ],
      "text/plain": [
       "             total_traveling_time  hourly_train_number\n",
       "L4_day_hour                                           \n",
       "0                            35.0                    8\n",
       "1                            35.0                    9\n",
       "2                            35.0                    4\n",
       "3                            35.0                    3\n",
       "4                            35.0                    2\n",
       "5                            35.0                   10\n",
       "6                            35.0                   12\n",
       "7                            35.0                   10\n",
       "8                            35.0                   11\n",
       "9                            35.0                   12\n",
       "10                           35.0                   10\n",
       "11                           35.0                   12\n",
       "12                           35.0                   13\n",
       "13                           35.0                   16\n",
       "14                           35.0                   12\n",
       "15                           35.0                   12\n",
       "16                           35.0                   14\n",
       "17                           35.0                   17\n",
       "18                           35.0                   14\n",
       "19                           35.0                   16\n",
       "20                           35.0                   19\n",
       "21                           35.0                   20\n",
       "22                           35.0                   10\n",
       "23                           35.0                   11"
      ]
     },
     "execution_count": 79,
     "metadata": {},
     "output_type": "execute_result"
    }
   ],
   "source": [
    "df_L4_a = df_L4[(df_L4[\"start_stop\"] == True)]\n",
    "df_L4_b = df_L4[(df_L4[\"destination\"] == True)]\n",
    "df_L4_full = pd.concat([df_L4_a, df_L4_b]).sort_values(by=['trip_id'])\n",
    "df_L4_full =df_L4_full.reset_index(drop=True)\n",
    "\n",
    "travelling_time_L4 = []\n",
    "for i in range(df_L4_full.shape[0]-1):\n",
    "    if df_L4_full.trip_id[i] == df_L4_full.trip_id[i+1]:       \n",
    "        time_interval = df_L4_full.departure_time[i].components.hours\n",
    "        total_travelling_time = df_L4_full.arrival_time[i+1] -df_L4_full.arrival_time[i]\n",
    "        x = [time_interval,total_travelling_time]\n",
    "        travelling_time_L4.append(x)\n",
    "\n",
    "travelling_time_L4 = pd.DataFrame(travelling_time_L4)\n",
    "travelling_time_L4.head()\n",
    "\n",
    "travelling_time_L4.columns = [\"L4_day_hour\", \"total_travelling_time\"]\n",
    "\n",
    "travelling_time_L4[\"total_travelling_time\"] = travelling_time_L4[\"total_travelling_time\"]/pd.Timedelta('1 minutes')\n",
    "travelling_time_L4[\"total_travelling_time\"] = travelling_time_L4[\"total_travelling_time\"].astype(float)\n",
    "travelling_time_L4[\"total_travelling_time\"] = travelling_time_L4[\"total_travelling_time\"].abs()\n",
    "travelling_time_L4.describe()\n",
    "\n",
    "L4_time = travelling_time_L4.groupby([\"L4_day_hour\"]).mean()\n",
    "L4_freq = travelling_time_L4.groupby([\"L4_day_hour\"]).count()\n",
    "L4_resume = pd.concat([L4_time, L4_freq], axis = 1)\n",
    "L4_resume.columns = [\"total_traveling_time\",\"hourly_train_number\"]\n",
    "L4_resume"
   ]
  },
  {
   "cell_type": "markdown",
   "metadata": {
    "extensions": {
     "jupyter_dashboards": {
      "version": 1,
      "views": {
       "grid_default": {},
       "report_default": {
        "hidden": false
       }
      }
     }
    }
   },
   "source": [
    "## L5"
   ]
  },
  {
   "cell_type": "code",
   "execution_count": 80,
   "metadata": {
    "extensions": {
     "jupyter_dashboards": {
      "version": 1,
      "views": {
       "grid_default": {},
       "report_default": {
        "hidden": false
       }
      }
     }
    }
   },
   "outputs": [
    {
     "data": {
      "text/html": [
       "<div>\n",
       "<style scoped>\n",
       "    .dataframe tbody tr th:only-of-type {\n",
       "        vertical-align: middle;\n",
       "    }\n",
       "\n",
       "    .dataframe tbody tr th {\n",
       "        vertical-align: top;\n",
       "    }\n",
       "\n",
       "    .dataframe thead th {\n",
       "        text-align: right;\n",
       "    }\n",
       "</style>\n",
       "<table border=\"1\" class=\"dataframe\">\n",
       "  <thead>\n",
       "    <tr style=\"text-align: right;\">\n",
       "      <th></th>\n",
       "      <th>total_traveling_time</th>\n",
       "      <th>hourly_train_number</th>\n",
       "    </tr>\n",
       "    <tr>\n",
       "      <th>L5_day_hour</th>\n",
       "      <th></th>\n",
       "      <th></th>\n",
       "    </tr>\n",
       "  </thead>\n",
       "  <tbody>\n",
       "    <tr>\n",
       "      <th>0</th>\n",
       "      <td>41.369048</td>\n",
       "      <td>7</td>\n",
       "    </tr>\n",
       "    <tr>\n",
       "      <th>2</th>\n",
       "      <td>40.683333</td>\n",
       "      <td>1</td>\n",
       "    </tr>\n",
       "    <tr>\n",
       "      <th>5</th>\n",
       "      <td>40.968750</td>\n",
       "      <td>8</td>\n",
       "    </tr>\n",
       "    <tr>\n",
       "      <th>6</th>\n",
       "      <td>41.650000</td>\n",
       "      <td>10</td>\n",
       "    </tr>\n",
       "    <tr>\n",
       "      <th>7</th>\n",
       "      <td>41.839394</td>\n",
       "      <td>11</td>\n",
       "    </tr>\n",
       "    <tr>\n",
       "      <th>8</th>\n",
       "      <td>41.795833</td>\n",
       "      <td>16</td>\n",
       "    </tr>\n",
       "    <tr>\n",
       "      <th>9</th>\n",
       "      <td>41.753571</td>\n",
       "      <td>14</td>\n",
       "    </tr>\n",
       "    <tr>\n",
       "      <th>10</th>\n",
       "      <td>41.814103</td>\n",
       "      <td>26</td>\n",
       "    </tr>\n",
       "    <tr>\n",
       "      <th>11</th>\n",
       "      <td>41.803333</td>\n",
       "      <td>30</td>\n",
       "    </tr>\n",
       "    <tr>\n",
       "      <th>12</th>\n",
       "      <td>41.693056</td>\n",
       "      <td>12</td>\n",
       "    </tr>\n",
       "    <tr>\n",
       "      <th>13</th>\n",
       "      <td>41.834615</td>\n",
       "      <td>13</td>\n",
       "    </tr>\n",
       "    <tr>\n",
       "      <th>14</th>\n",
       "      <td>41.756061</td>\n",
       "      <td>11</td>\n",
       "    </tr>\n",
       "    <tr>\n",
       "      <th>15</th>\n",
       "      <td>41.797917</td>\n",
       "      <td>8</td>\n",
       "    </tr>\n",
       "    <tr>\n",
       "      <th>16</th>\n",
       "      <td>41.757143</td>\n",
       "      <td>7</td>\n",
       "    </tr>\n",
       "    <tr>\n",
       "      <th>17</th>\n",
       "      <td>41.788095</td>\n",
       "      <td>7</td>\n",
       "    </tr>\n",
       "    <tr>\n",
       "      <th>18</th>\n",
       "      <td>41.693333</td>\n",
       "      <td>10</td>\n",
       "    </tr>\n",
       "    <tr>\n",
       "      <th>19</th>\n",
       "      <td>41.726667</td>\n",
       "      <td>5</td>\n",
       "    </tr>\n",
       "    <tr>\n",
       "      <th>20</th>\n",
       "      <td>41.670370</td>\n",
       "      <td>9</td>\n",
       "    </tr>\n",
       "    <tr>\n",
       "      <th>21</th>\n",
       "      <td>41.402778</td>\n",
       "      <td>12</td>\n",
       "    </tr>\n",
       "    <tr>\n",
       "      <th>22</th>\n",
       "      <td>41.058333</td>\n",
       "      <td>10</td>\n",
       "    </tr>\n",
       "    <tr>\n",
       "      <th>23</th>\n",
       "      <td>40.721296</td>\n",
       "      <td>18</td>\n",
       "    </tr>\n",
       "  </tbody>\n",
       "</table>\n",
       "</div>"
      ],
      "text/plain": [
       "             total_traveling_time  hourly_train_number\n",
       "L5_day_hour                                           \n",
       "0                       41.369048                    7\n",
       "2                       40.683333                    1\n",
       "5                       40.968750                    8\n",
       "6                       41.650000                   10\n",
       "7                       41.839394                   11\n",
       "8                       41.795833                   16\n",
       "9                       41.753571                   14\n",
       "10                      41.814103                   26\n",
       "11                      41.803333                   30\n",
       "12                      41.693056                   12\n",
       "13                      41.834615                   13\n",
       "14                      41.756061                   11\n",
       "15                      41.797917                    8\n",
       "16                      41.757143                    7\n",
       "17                      41.788095                    7\n",
       "18                      41.693333                   10\n",
       "19                      41.726667                    5\n",
       "20                      41.670370                    9\n",
       "21                      41.402778                   12\n",
       "22                      41.058333                   10\n",
       "23                      40.721296                   18"
      ]
     },
     "execution_count": 80,
     "metadata": {},
     "output_type": "execute_result"
    }
   ],
   "source": [
    "df_L5_a = df_L5[(df_L5[\"start_stop\"] == True)]\n",
    "df_L5_b = df_L5[(df_L5[\"destination\"] == True)]\n",
    "df_L5_full = pd.concat([df_L5_a, df_L5_b]).sort_values(by=['trip_id'])\n",
    "df_L5_full =df_L5_full.reset_index(drop=True)\n",
    "\n",
    "travelling_time_L5 = []\n",
    "for i in range(df_L5_full.shape[0]-1):\n",
    "    if df_L5_full.trip_id[i] == df_L5_full.trip_id[i+1]:       \n",
    "        time_interval = df_L5_full.departure_time[i].components.hours\n",
    "        total_travelling_time = df_L5_full.arrival_time[i+1] -df_L5_full.arrival_time[i]\n",
    "        x = [time_interval,total_travelling_time]\n",
    "        travelling_time_L5.append(x)\n",
    "\n",
    "travelling_time_L5 = pd.DataFrame(travelling_time_L5)\n",
    "travelling_time_L5.head()\n",
    "\n",
    "travelling_time_L5.columns = [\"L5_day_hour\", \"total_travelling_time\"]\n",
    "\n",
    "travelling_time_L5[\"total_travelling_time\"] = travelling_time_L5[\"total_travelling_time\"]/pd.Timedelta('1 minutes')\n",
    "travelling_time_L5[\"total_travelling_time\"] = travelling_time_L5[\"total_travelling_time\"].astype(float)\n",
    "travelling_time_L5[\"total_travelling_time\"] = travelling_time_L5[\"total_travelling_time\"].abs()\n",
    "travelling_time_L5.describe()\n",
    "\n",
    "L5_time = travelling_time_L5.groupby([\"L5_day_hour\"]).mean()\n",
    "L5_freq = travelling_time_L5.groupby([\"L5_day_hour\"]).count()\n",
    "L5_resume = pd.concat([L5_time, L5_freq], axis = 1)\n",
    "L5_resume.columns = [\"total_traveling_time\",\"hourly_train_number\"]\n",
    "L5_resume"
   ]
  },
  {
   "cell_type": "markdown",
   "metadata": {
    "extensions": {
     "jupyter_dashboards": {
      "version": 1,
      "views": {
       "grid_default": {},
       "report_default": {
        "hidden": false
       }
      }
     }
    }
   },
   "source": [
    "## Bus 63"
   ]
  },
  {
   "cell_type": "code",
   "execution_count": 81,
   "metadata": {
    "extensions": {
     "jupyter_dashboards": {
      "version": 1,
      "views": {
       "grid_default": {},
       "report_default": {
        "hidden": false
       }
      }
     }
    }
   },
   "outputs": [
    {
     "data": {
      "text/html": [
       "<div>\n",
       "<style scoped>\n",
       "    .dataframe tbody tr th:only-of-type {\n",
       "        vertical-align: middle;\n",
       "    }\n",
       "\n",
       "    .dataframe tbody tr th {\n",
       "        vertical-align: top;\n",
       "    }\n",
       "\n",
       "    .dataframe thead th {\n",
       "        text-align: right;\n",
       "    }\n",
       "</style>\n",
       "<table border=\"1\" class=\"dataframe\">\n",
       "  <thead>\n",
       "    <tr style=\"text-align: right;\">\n",
       "      <th></th>\n",
       "      <th>total_traveling_time</th>\n",
       "      <th>hourly_train_number</th>\n",
       "    </tr>\n",
       "    <tr>\n",
       "      <th>63_day_hour</th>\n",
       "      <th></th>\n",
       "      <th></th>\n",
       "    </tr>\n",
       "  </thead>\n",
       "  <tbody>\n",
       "    <tr>\n",
       "      <th>6</th>\n",
       "      <td>35.500000</td>\n",
       "      <td>2</td>\n",
       "    </tr>\n",
       "    <tr>\n",
       "      <th>7</th>\n",
       "      <td>40.666667</td>\n",
       "      <td>3</td>\n",
       "    </tr>\n",
       "    <tr>\n",
       "      <th>8</th>\n",
       "      <td>43.800000</td>\n",
       "      <td>5</td>\n",
       "    </tr>\n",
       "    <tr>\n",
       "      <th>9</th>\n",
       "      <td>46.166667</td>\n",
       "      <td>6</td>\n",
       "    </tr>\n",
       "    <tr>\n",
       "      <th>10</th>\n",
       "      <td>48.500000</td>\n",
       "      <td>4</td>\n",
       "    </tr>\n",
       "    <tr>\n",
       "      <th>11</th>\n",
       "      <td>47.000000</td>\n",
       "      <td>2</td>\n",
       "    </tr>\n",
       "    <tr>\n",
       "      <th>12</th>\n",
       "      <td>48.400000</td>\n",
       "      <td>5</td>\n",
       "    </tr>\n",
       "    <tr>\n",
       "      <th>13</th>\n",
       "      <td>49.200000</td>\n",
       "      <td>5</td>\n",
       "    </tr>\n",
       "    <tr>\n",
       "      <th>14</th>\n",
       "      <td>48.125000</td>\n",
       "      <td>8</td>\n",
       "    </tr>\n",
       "    <tr>\n",
       "      <th>15</th>\n",
       "      <td>47.500000</td>\n",
       "      <td>6</td>\n",
       "    </tr>\n",
       "    <tr>\n",
       "      <th>16</th>\n",
       "      <td>47.000000</td>\n",
       "      <td>3</td>\n",
       "    </tr>\n",
       "    <tr>\n",
       "      <th>17</th>\n",
       "      <td>48.333333</td>\n",
       "      <td>3</td>\n",
       "    </tr>\n",
       "    <tr>\n",
       "      <th>18</th>\n",
       "      <td>49.500000</td>\n",
       "      <td>8</td>\n",
       "    </tr>\n",
       "    <tr>\n",
       "      <th>19</th>\n",
       "      <td>50.000000</td>\n",
       "      <td>5</td>\n",
       "    </tr>\n",
       "    <tr>\n",
       "      <th>20</th>\n",
       "      <td>51.333333</td>\n",
       "      <td>6</td>\n",
       "    </tr>\n",
       "    <tr>\n",
       "      <th>21</th>\n",
       "      <td>48.333333</td>\n",
       "      <td>6</td>\n",
       "    </tr>\n",
       "    <tr>\n",
       "      <th>22</th>\n",
       "      <td>44.400000</td>\n",
       "      <td>5</td>\n",
       "    </tr>\n",
       "    <tr>\n",
       "      <th>23</th>\n",
       "      <td>38.000000</td>\n",
       "      <td>1</td>\n",
       "    </tr>\n",
       "  </tbody>\n",
       "</table>\n",
       "</div>"
      ],
      "text/plain": [
       "             total_traveling_time  hourly_train_number\n",
       "63_day_hour                                           \n",
       "6                       35.500000                    2\n",
       "7                       40.666667                    3\n",
       "8                       43.800000                    5\n",
       "9                       46.166667                    6\n",
       "10                      48.500000                    4\n",
       "11                      47.000000                    2\n",
       "12                      48.400000                    5\n",
       "13                      49.200000                    5\n",
       "14                      48.125000                    8\n",
       "15                      47.500000                    6\n",
       "16                      47.000000                    3\n",
       "17                      48.333333                    3\n",
       "18                      49.500000                    8\n",
       "19                      50.000000                    5\n",
       "20                      51.333333                    6\n",
       "21                      48.333333                    6\n",
       "22                      44.400000                    5\n",
       "23                      38.000000                    1"
      ]
     },
     "execution_count": 81,
     "metadata": {},
     "output_type": "execute_result"
    }
   ],
   "source": [
    "df_63_a = df_63[(df_63[\"start_stop\"] == True)]\n",
    "df_63_b = df_63[(df_63[\"destination\"] == True)]\n",
    "df_63_full = pd.concat([df_63_a, df_63_b]).sort_values(by=['trip_id'])\n",
    "df_63_full =df_63_full.reset_index(drop=True)\n",
    "\n",
    "travelling_time_63 = []\n",
    "for i in range(df_63_full.shape[0]-1):\n",
    "    if df_63_full.trip_id[i] == df_63_full.trip_id[i+1]:       \n",
    "        time_interval = df_63_full.departure_time[i].components.hours\n",
    "        total_travelling_time = df_63_full.arrival_time[i+1] -df_63_full.arrival_time[i]\n",
    "        x = [time_interval,total_travelling_time]\n",
    "        travelling_time_63.append(x)\n",
    "\n",
    "travelling_time_63 = pd.DataFrame(travelling_time_63)\n",
    "travelling_time_63.head()\n",
    "\n",
    "travelling_time_63.columns = [\"63_day_hour\", \"total_travelling_time\"]\n",
    "\n",
    "travelling_time_63[\"total_travelling_time\"] = travelling_time_63[\"total_travelling_time\"]/pd.Timedelta('1 minutes')\n",
    "travelling_time_63[\"total_travelling_time\"] = travelling_time_63[\"total_travelling_time\"].astype(float)\n",
    "travelling_time_63[\"total_travelling_time\"] = travelling_time_63[\"total_travelling_time\"].abs()\n",
    "travelling_time_63.describe()\n",
    "\n",
    "B63_time = travelling_time_63.groupby([\"63_day_hour\"]).mean()\n",
    "B63_freq = travelling_time_63.groupby([\"63_day_hour\"]).count()\n",
    "B63_resume = pd.concat([B63_time, B63_freq], axis = 1)\n",
    "B63_resume.columns = [\"total_traveling_time\",\"hourly_train_number\"]\n",
    "B63_resume"
   ]
  },
  {
   "cell_type": "markdown",
   "metadata": {
    "extensions": {
     "jupyter_dashboards": {
      "version": 1,
      "views": {
       "grid_default": {},
       "report_default": {
        "hidden": false
       }
      }
     }
    }
   },
   "source": [
    "## Bus 65"
   ]
  },
  {
   "cell_type": "code",
   "execution_count": 82,
   "metadata": {
    "extensions": {
     "jupyter_dashboards": {
      "version": 1,
      "views": {
       "grid_default": {},
       "report_default": {
        "hidden": false
       }
      }
     }
    }
   },
   "outputs": [
    {
     "data": {
      "text/html": [
       "<div>\n",
       "<style scoped>\n",
       "    .dataframe tbody tr th:only-of-type {\n",
       "        vertical-align: middle;\n",
       "    }\n",
       "\n",
       "    .dataframe tbody tr th {\n",
       "        vertical-align: top;\n",
       "    }\n",
       "\n",
       "    .dataframe thead th {\n",
       "        text-align: right;\n",
       "    }\n",
       "</style>\n",
       "<table border=\"1\" class=\"dataframe\">\n",
       "  <thead>\n",
       "    <tr style=\"text-align: right;\">\n",
       "      <th></th>\n",
       "      <th>total_traveling_time</th>\n",
       "      <th>hourly_train_number</th>\n",
       "    </tr>\n",
       "    <tr>\n",
       "      <th>65_day_hour</th>\n",
       "      <th></th>\n",
       "      <th></th>\n",
       "    </tr>\n",
       "  </thead>\n",
       "  <tbody>\n",
       "    <tr>\n",
       "      <th>0</th>\n",
       "      <td>35.000000</td>\n",
       "      <td>1</td>\n",
       "    </tr>\n",
       "    <tr>\n",
       "      <th>5</th>\n",
       "      <td>37.000000</td>\n",
       "      <td>1</td>\n",
       "    </tr>\n",
       "    <tr>\n",
       "      <th>6</th>\n",
       "      <td>37.000000</td>\n",
       "      <td>2</td>\n",
       "    </tr>\n",
       "    <tr>\n",
       "      <th>7</th>\n",
       "      <td>38.000000</td>\n",
       "      <td>3</td>\n",
       "    </tr>\n",
       "    <tr>\n",
       "      <th>8</th>\n",
       "      <td>40.250000</td>\n",
       "      <td>4</td>\n",
       "    </tr>\n",
       "    <tr>\n",
       "      <th>9</th>\n",
       "      <td>43.333333</td>\n",
       "      <td>3</td>\n",
       "    </tr>\n",
       "    <tr>\n",
       "      <th>10</th>\n",
       "      <td>46.500000</td>\n",
       "      <td>4</td>\n",
       "    </tr>\n",
       "    <tr>\n",
       "      <th>11</th>\n",
       "      <td>47.000000</td>\n",
       "      <td>3</td>\n",
       "    </tr>\n",
       "    <tr>\n",
       "      <th>12</th>\n",
       "      <td>48.000000</td>\n",
       "      <td>4</td>\n",
       "    </tr>\n",
       "    <tr>\n",
       "      <th>13</th>\n",
       "      <td>46.400000</td>\n",
       "      <td>5</td>\n",
       "    </tr>\n",
       "    <tr>\n",
       "      <th>14</th>\n",
       "      <td>47.500000</td>\n",
       "      <td>4</td>\n",
       "    </tr>\n",
       "    <tr>\n",
       "      <th>15</th>\n",
       "      <td>45.000000</td>\n",
       "      <td>3</td>\n",
       "    </tr>\n",
       "    <tr>\n",
       "      <th>16</th>\n",
       "      <td>46.200000</td>\n",
       "      <td>5</td>\n",
       "    </tr>\n",
       "    <tr>\n",
       "      <th>17</th>\n",
       "      <td>50.000000</td>\n",
       "      <td>5</td>\n",
       "    </tr>\n",
       "    <tr>\n",
       "      <th>18</th>\n",
       "      <td>50.000000</td>\n",
       "      <td>3</td>\n",
       "    </tr>\n",
       "    <tr>\n",
       "      <th>19</th>\n",
       "      <td>50.750000</td>\n",
       "      <td>4</td>\n",
       "    </tr>\n",
       "    <tr>\n",
       "      <th>20</th>\n",
       "      <td>47.000000</td>\n",
       "      <td>6</td>\n",
       "    </tr>\n",
       "    <tr>\n",
       "      <th>21</th>\n",
       "      <td>43.800000</td>\n",
       "      <td>5</td>\n",
       "    </tr>\n",
       "    <tr>\n",
       "      <th>22</th>\n",
       "      <td>40.000000</td>\n",
       "      <td>5</td>\n",
       "    </tr>\n",
       "    <tr>\n",
       "      <th>23</th>\n",
       "      <td>38.000000</td>\n",
       "      <td>2</td>\n",
       "    </tr>\n",
       "  </tbody>\n",
       "</table>\n",
       "</div>"
      ],
      "text/plain": [
       "             total_traveling_time  hourly_train_number\n",
       "65_day_hour                                           \n",
       "0                       35.000000                    1\n",
       "5                       37.000000                    1\n",
       "6                       37.000000                    2\n",
       "7                       38.000000                    3\n",
       "8                       40.250000                    4\n",
       "9                       43.333333                    3\n",
       "10                      46.500000                    4\n",
       "11                      47.000000                    3\n",
       "12                      48.000000                    4\n",
       "13                      46.400000                    5\n",
       "14                      47.500000                    4\n",
       "15                      45.000000                    3\n",
       "16                      46.200000                    5\n",
       "17                      50.000000                    5\n",
       "18                      50.000000                    3\n",
       "19                      50.750000                    4\n",
       "20                      47.000000                    6\n",
       "21                      43.800000                    5\n",
       "22                      40.000000                    5\n",
       "23                      38.000000                    2"
      ]
     },
     "execution_count": 82,
     "metadata": {},
     "output_type": "execute_result"
    }
   ],
   "source": [
    "df_65_a = df_65[(df_65[\"start_stop\"] == True)]\n",
    "df_65_b = df_65[(df_65[\"destination\"] == True)]\n",
    "df_65_full = pd.concat([df_65_a, df_65_b]).sort_values(by=['trip_id'])\n",
    "df_65_full =df_65_full.reset_index(drop=True)\n",
    "\n",
    "travelling_time_65 = []\n",
    "for i in range(df_65_full.shape[0]-1):\n",
    "    if df_65_full.trip_id[i] == df_65_full.trip_id[i+1]:       \n",
    "        time_interval = df_65_full.departure_time[i].components.hours\n",
    "        total_travelling_time = df_65_full.arrival_time[i+1] -df_65_full.arrival_time[i]\n",
    "        x = [time_interval,total_travelling_time]\n",
    "        travelling_time_65.append(x)\n",
    "\n",
    "travelling_time_65 = pd.DataFrame(travelling_time_65)\n",
    "travelling_time_65.head()\n",
    "\n",
    "travelling_time_65.columns = [\"65_day_hour\", \"total_travelling_time\"]\n",
    "\n",
    "travelling_time_65[\"total_travelling_time\"] = travelling_time_65[\"total_travelling_time\"]/pd.Timedelta('1 minutes')\n",
    "travelling_time_65[\"total_travelling_time\"] = travelling_time_65[\"total_travelling_time\"].astype(float)\n",
    "travelling_time_65[\"total_travelling_time\"] = travelling_time_65[\"total_travelling_time\"].abs()\n",
    "travelling_time_65.describe()\n",
    "\n",
    "B65_time = travelling_time_65.groupby([\"65_day_hour\"]).mean()\n",
    "B65_freq = travelling_time_65.groupby([\"65_day_hour\"]).count()\n",
    "B65_resume = pd.concat([B65_time, B65_freq], axis = 1)\n",
    "B65_resume.columns = [\"total_traveling_time\",\"hourly_train_number\"]\n",
    "B65_resume"
   ]
  },
  {
   "cell_type": "markdown",
   "metadata": {
    "extensions": {
     "jupyter_dashboards": {
      "version": 1,
      "views": {
       "grid_default": {},
       "report_default": {
        "hidden": false
       }
      }
     }
    }
   },
   "source": [
    "## Bus 124"
   ]
  },
  {
   "cell_type": "code",
   "execution_count": 83,
   "metadata": {
    "extensions": {
     "jupyter_dashboards": {
      "version": 1,
      "views": {
       "grid_default": {},
       "report_default": {
        "hidden": false
       }
      }
     }
    }
   },
   "outputs": [
    {
     "data": {
      "text/html": [
       "<div>\n",
       "<style scoped>\n",
       "    .dataframe tbody tr th:only-of-type {\n",
       "        vertical-align: middle;\n",
       "    }\n",
       "\n",
       "    .dataframe tbody tr th {\n",
       "        vertical-align: top;\n",
       "    }\n",
       "\n",
       "    .dataframe thead th {\n",
       "        text-align: right;\n",
       "    }\n",
       "</style>\n",
       "<table border=\"1\" class=\"dataframe\">\n",
       "  <thead>\n",
       "    <tr style=\"text-align: right;\">\n",
       "      <th></th>\n",
       "      <th>total_traveling_time</th>\n",
       "      <th>hourly_train_number</th>\n",
       "    </tr>\n",
       "    <tr>\n",
       "      <th>124_day_hour</th>\n",
       "      <th></th>\n",
       "      <th></th>\n",
       "    </tr>\n",
       "  </thead>\n",
       "  <tbody>\n",
       "    <tr>\n",
       "      <th>9</th>\n",
       "      <td>13.0</td>\n",
       "      <td>1</td>\n",
       "    </tr>\n",
       "    <tr>\n",
       "      <th>10</th>\n",
       "      <td>13.0</td>\n",
       "      <td>2</td>\n",
       "    </tr>\n",
       "    <tr>\n",
       "      <th>18</th>\n",
       "      <td>13.0</td>\n",
       "      <td>1</td>\n",
       "    </tr>\n",
       "    <tr>\n",
       "      <th>19</th>\n",
       "      <td>13.0</td>\n",
       "      <td>2</td>\n",
       "    </tr>\n",
       "    <tr>\n",
       "      <th>20</th>\n",
       "      <td>13.0</td>\n",
       "      <td>2</td>\n",
       "    </tr>\n",
       "    <tr>\n",
       "      <th>21</th>\n",
       "      <td>13.0</td>\n",
       "      <td>1</td>\n",
       "    </tr>\n",
       "  </tbody>\n",
       "</table>\n",
       "</div>"
      ],
      "text/plain": [
       "              total_traveling_time  hourly_train_number\n",
       "124_day_hour                                           \n",
       "9                             13.0                    1\n",
       "10                            13.0                    2\n",
       "18                            13.0                    1\n",
       "19                            13.0                    2\n",
       "20                            13.0                    2\n",
       "21                            13.0                    1"
      ]
     },
     "execution_count": 83,
     "metadata": {},
     "output_type": "execute_result"
    }
   ],
   "source": [
    "df_124_a = df_124[(df_124[\"start_stop\"] == True)]\n",
    "df_124_b = df_124[(df_124[\"destination\"] == True)]\n",
    "df_124_full = pd.concat([df_124_a, df_124_b]).sort_values(by=['trip_id'])\n",
    "df_124_full =df_124_full.reset_index(drop=True)\n",
    "\n",
    "travelling_time_124 = []\n",
    "for i in range(df_124_full.shape[0]-1):\n",
    "    if df_124_full.trip_id[i] == df_124_full.trip_id[i+1]:       \n",
    "        time_interval = df_124_full.departure_time[i].components.hours\n",
    "        total_travelling_time = df_124_full.arrival_time[i+1] -df_124_full.arrival_time[i]\n",
    "        x = [time_interval,total_travelling_time]\n",
    "        travelling_time_124.append(x)\n",
    "\n",
    "travelling_time_124 = pd.DataFrame(travelling_time_124)\n",
    "travelling_time_124.head()\n",
    "\n",
    "travelling_time_124.columns = [\"124_day_hour\", \"total_travelling_time\"]\n",
    "\n",
    "travelling_time_124[\"total_travelling_time\"] = travelling_time_124[\"total_travelling_time\"]/pd.Timedelta('1 minutes')\n",
    "travelling_time_124[\"total_travelling_time\"] = travelling_time_124[\"total_travelling_time\"].astype(float)\n",
    "travelling_time_124[\"total_travelling_time\"] = travelling_time_124[\"total_travelling_time\"].abs()\n",
    "travelling_time_124.describe()\n",
    "\n",
    "B124_time = travelling_time_124.groupby([\"124_day_hour\"]).mean()\n",
    "B124_freq = travelling_time_124.groupby([\"124_day_hour\"]).count()\n",
    "B124_resume = pd.concat([B124_time, B124_freq], axis = 1)\n",
    "B124_resume.columns = [\"total_traveling_time\",\"hourly_train_number\"]\n",
    "B124_resume"
   ]
  },
  {
   "cell_type": "markdown",
   "metadata": {
    "extensions": {
     "jupyter_dashboards": {
      "version": 1,
      "views": {
       "grid_default": {},
       "report_default": {
        "hidden": false
       }
      }
     }
    }
   },
   "source": [
    "## Bus 125"
   ]
  },
  {
   "cell_type": "code",
   "execution_count": 84,
   "metadata": {
    "extensions": {
     "jupyter_dashboards": {
      "version": 1,
      "views": {
       "grid_default": {},
       "report_default": {
        "hidden": false
       }
      }
     }
    }
   },
   "outputs": [
    {
     "data": {
      "text/html": [
       "<div>\n",
       "<style scoped>\n",
       "    .dataframe tbody tr th:only-of-type {\n",
       "        vertical-align: middle;\n",
       "    }\n",
       "\n",
       "    .dataframe tbody tr th {\n",
       "        vertical-align: top;\n",
       "    }\n",
       "\n",
       "    .dataframe thead th {\n",
       "        text-align: right;\n",
       "    }\n",
       "</style>\n",
       "<table border=\"1\" class=\"dataframe\">\n",
       "  <thead>\n",
       "    <tr style=\"text-align: right;\">\n",
       "      <th></th>\n",
       "      <th>total_traveling_time</th>\n",
       "      <th>hourly_train_number</th>\n",
       "    </tr>\n",
       "    <tr>\n",
       "      <th>125_day_hour</th>\n",
       "      <th></th>\n",
       "      <th></th>\n",
       "    </tr>\n",
       "  </thead>\n",
       "  <tbody>\n",
       "    <tr>\n",
       "      <th>7</th>\n",
       "      <td>19.000000</td>\n",
       "      <td>2</td>\n",
       "    </tr>\n",
       "    <tr>\n",
       "      <th>8</th>\n",
       "      <td>19.000000</td>\n",
       "      <td>1</td>\n",
       "    </tr>\n",
       "    <tr>\n",
       "      <th>9</th>\n",
       "      <td>19.000000</td>\n",
       "      <td>5</td>\n",
       "    </tr>\n",
       "    <tr>\n",
       "      <th>10</th>\n",
       "      <td>19.500000</td>\n",
       "      <td>4</td>\n",
       "    </tr>\n",
       "    <tr>\n",
       "      <th>11</th>\n",
       "      <td>19.800000</td>\n",
       "      <td>5</td>\n",
       "    </tr>\n",
       "    <tr>\n",
       "      <th>12</th>\n",
       "      <td>20.500000</td>\n",
       "      <td>4</td>\n",
       "    </tr>\n",
       "    <tr>\n",
       "      <th>13</th>\n",
       "      <td>19.666667</td>\n",
       "      <td>3</td>\n",
       "    </tr>\n",
       "    <tr>\n",
       "      <th>14</th>\n",
       "      <td>20.000000</td>\n",
       "      <td>6</td>\n",
       "    </tr>\n",
       "    <tr>\n",
       "      <th>15</th>\n",
       "      <td>18.400000</td>\n",
       "      <td>5</td>\n",
       "    </tr>\n",
       "    <tr>\n",
       "      <th>16</th>\n",
       "      <td>19.500000</td>\n",
       "      <td>4</td>\n",
       "    </tr>\n",
       "    <tr>\n",
       "      <th>17</th>\n",
       "      <td>18.600000</td>\n",
       "      <td>5</td>\n",
       "    </tr>\n",
       "    <tr>\n",
       "      <th>18</th>\n",
       "      <td>19.666667</td>\n",
       "      <td>3</td>\n",
       "    </tr>\n",
       "    <tr>\n",
       "      <th>19</th>\n",
       "      <td>19.200000</td>\n",
       "      <td>5</td>\n",
       "    </tr>\n",
       "    <tr>\n",
       "      <th>20</th>\n",
       "      <td>18.500000</td>\n",
       "      <td>4</td>\n",
       "    </tr>\n",
       "    <tr>\n",
       "      <th>21</th>\n",
       "      <td>17.666667</td>\n",
       "      <td>3</td>\n",
       "    </tr>\n",
       "  </tbody>\n",
       "</table>\n",
       "</div>"
      ],
      "text/plain": [
       "              total_traveling_time  hourly_train_number\n",
       "125_day_hour                                           \n",
       "7                        19.000000                    2\n",
       "8                        19.000000                    1\n",
       "9                        19.000000                    5\n",
       "10                       19.500000                    4\n",
       "11                       19.800000                    5\n",
       "12                       20.500000                    4\n",
       "13                       19.666667                    3\n",
       "14                       20.000000                    6\n",
       "15                       18.400000                    5\n",
       "16                       19.500000                    4\n",
       "17                       18.600000                    5\n",
       "18                       19.666667                    3\n",
       "19                       19.200000                    5\n",
       "20                       18.500000                    4\n",
       "21                       17.666667                    3"
      ]
     },
     "execution_count": 84,
     "metadata": {},
     "output_type": "execute_result"
    }
   ],
   "source": [
    "df_125_a = df_125[(df_125[\"start_stop\"] == True)]\n",
    "df_125_b = df_125[(df_125[\"destination\"] == True)]\n",
    "df_125_full = pd.concat([df_125_a, df_125_b]).sort_values(by=['trip_id'])\n",
    "df_125_full =df_125_full.reset_index(drop=True)\n",
    "\n",
    "travelling_time_125 = []\n",
    "for i in range(df_125_full.shape[0]-1):\n",
    "    if df_125_full.trip_id[i] == df_125_full.trip_id[i+1]:       \n",
    "        time_interval = df_125_full.departure_time[i].components.hours\n",
    "        total_travelling_time = df_125_full.arrival_time[i+1] -df_125_full.arrival_time[i]\n",
    "        x = [time_interval,total_travelling_time]\n",
    "        travelling_time_125.append(x)\n",
    "\n",
    "travelling_time_125 = pd.DataFrame(travelling_time_125)\n",
    "travelling_time_125.head()\n",
    "\n",
    "travelling_time_125.columns = [\"125_day_hour\", \"total_travelling_time\"]\n",
    "\n",
    "travelling_time_125[\"total_travelling_time\"] = travelling_time_125[\"total_travelling_time\"]/pd.Timedelta('1 minutes')\n",
    "travelling_time_125[\"total_travelling_time\"] = travelling_time_125[\"total_travelling_time\"].astype(float)\n",
    "travelling_time_125[\"total_travelling_time\"] = travelling_time_125[\"total_travelling_time\"].abs()\n",
    "travelling_time_125.describe()\n",
    "\n",
    "B125_time = travelling_time_125.groupby([\"125_day_hour\"]).mean()\n",
    "B125_freq = travelling_time_125.groupby([\"125_day_hour\"]).count()\n",
    "B125_resume = pd.concat([B125_time, B125_freq], axis = 1)\n",
    "B125_resume.columns = [\"total_traveling_time\",\"hourly_train_number\"]\n",
    "B125_resume"
   ]
  },
  {
   "cell_type": "markdown",
   "metadata": {
    "extensions": {
     "jupyter_dashboards": {
      "version": 1,
      "views": {
       "grid_default": {},
       "report_default": {
        "hidden": false
       }
      }
     }
    }
   },
   "source": [
    "## Bus 126"
   ]
  },
  {
   "cell_type": "code",
   "execution_count": 85,
   "metadata": {
    "extensions": {
     "jupyter_dashboards": {
      "version": 1,
      "views": {
       "grid_default": {},
       "report_default": {
        "hidden": false
       }
      }
     }
    }
   },
   "outputs": [
    {
     "data": {
      "text/html": [
       "<div>\n",
       "<style scoped>\n",
       "    .dataframe tbody tr th:only-of-type {\n",
       "        vertical-align: middle;\n",
       "    }\n",
       "\n",
       "    .dataframe tbody tr th {\n",
       "        vertical-align: top;\n",
       "    }\n",
       "\n",
       "    .dataframe thead th {\n",
       "        text-align: right;\n",
       "    }\n",
       "</style>\n",
       "<table border=\"1\" class=\"dataframe\">\n",
       "  <thead>\n",
       "    <tr style=\"text-align: right;\">\n",
       "      <th></th>\n",
       "      <th>total_traveling_time</th>\n",
       "      <th>hourly_train_number</th>\n",
       "    </tr>\n",
       "    <tr>\n",
       "      <th>126_day_hour</th>\n",
       "      <th></th>\n",
       "      <th></th>\n",
       "    </tr>\n",
       "  </thead>\n",
       "  <tbody>\n",
       "    <tr>\n",
       "      <th>7</th>\n",
       "      <td>30.250000</td>\n",
       "      <td>4</td>\n",
       "    </tr>\n",
       "    <tr>\n",
       "      <th>8</th>\n",
       "      <td>32.750000</td>\n",
       "      <td>4</td>\n",
       "    </tr>\n",
       "    <tr>\n",
       "      <th>9</th>\n",
       "      <td>27.700000</td>\n",
       "      <td>10</td>\n",
       "    </tr>\n",
       "    <tr>\n",
       "      <th>10</th>\n",
       "      <td>28.181818</td>\n",
       "      <td>11</td>\n",
       "    </tr>\n",
       "    <tr>\n",
       "      <th>11</th>\n",
       "      <td>28.500000</td>\n",
       "      <td>10</td>\n",
       "    </tr>\n",
       "    <tr>\n",
       "      <th>12</th>\n",
       "      <td>28.545455</td>\n",
       "      <td>11</td>\n",
       "    </tr>\n",
       "    <tr>\n",
       "      <th>13</th>\n",
       "      <td>28.700000</td>\n",
       "      <td>10</td>\n",
       "    </tr>\n",
       "    <tr>\n",
       "      <th>14</th>\n",
       "      <td>26.900000</td>\n",
       "      <td>10</td>\n",
       "    </tr>\n",
       "    <tr>\n",
       "      <th>15</th>\n",
       "      <td>27.200000</td>\n",
       "      <td>10</td>\n",
       "    </tr>\n",
       "    <tr>\n",
       "      <th>16</th>\n",
       "      <td>27.444444</td>\n",
       "      <td>9</td>\n",
       "    </tr>\n",
       "    <tr>\n",
       "      <th>17</th>\n",
       "      <td>27.833333</td>\n",
       "      <td>12</td>\n",
       "    </tr>\n",
       "    <tr>\n",
       "      <th>18</th>\n",
       "      <td>27.818182</td>\n",
       "      <td>11</td>\n",
       "    </tr>\n",
       "    <tr>\n",
       "      <th>19</th>\n",
       "      <td>27.272727</td>\n",
       "      <td>11</td>\n",
       "    </tr>\n",
       "    <tr>\n",
       "      <th>20</th>\n",
       "      <td>26.363636</td>\n",
       "      <td>11</td>\n",
       "    </tr>\n",
       "    <tr>\n",
       "      <th>21</th>\n",
       "      <td>24.000000</td>\n",
       "      <td>9</td>\n",
       "    </tr>\n",
       "    <tr>\n",
       "      <th>22</th>\n",
       "      <td>25.000000</td>\n",
       "      <td>1</td>\n",
       "    </tr>\n",
       "  </tbody>\n",
       "</table>\n",
       "</div>"
      ],
      "text/plain": [
       "              total_traveling_time  hourly_train_number\n",
       "126_day_hour                                           \n",
       "7                        30.250000                    4\n",
       "8                        32.750000                    4\n",
       "9                        27.700000                   10\n",
       "10                       28.181818                   11\n",
       "11                       28.500000                   10\n",
       "12                       28.545455                   11\n",
       "13                       28.700000                   10\n",
       "14                       26.900000                   10\n",
       "15                       27.200000                   10\n",
       "16                       27.444444                    9\n",
       "17                       27.833333                   12\n",
       "18                       27.818182                   11\n",
       "19                       27.272727                   11\n",
       "20                       26.363636                   11\n",
       "21                       24.000000                    9\n",
       "22                       25.000000                    1"
      ]
     },
     "execution_count": 85,
     "metadata": {},
     "output_type": "execute_result"
    }
   ],
   "source": [
    "df_126_a = df_126[(df_126[\"start_stop\"] == True)]\n",
    "df_126_b = df_126[(df_126[\"destination\"] == True)]\n",
    "df_126_full = pd.concat([df_126_a, df_126_b]).sort_values(by=['trip_id'])\n",
    "df_126_full =df_126_full.reset_index(drop=True)\n",
    "\n",
    "travelling_time_126 = []\n",
    "for i in range(df_126_full.shape[0]-1):\n",
    "    if df_126_full.trip_id[i] == df_126_full.trip_id[i+1]:       \n",
    "        time_interval = df_126_full.departure_time[i].components.hours\n",
    "        total_travelling_time = df_126_full.arrival_time[i+1] -df_126_full.arrival_time[i]\n",
    "        x = [time_interval,total_travelling_time]\n",
    "        travelling_time_126.append(x)\n",
    "\n",
    "travelling_time_126 = pd.DataFrame(travelling_time_126)\n",
    "travelling_time_126.head()\n",
    "\n",
    "travelling_time_126.columns = [\"126_day_hour\", \"total_travelling_time\"]\n",
    "\n",
    "travelling_time_126[\"total_travelling_time\"] = travelling_time_126[\"total_travelling_time\"]/pd.Timedelta('1 minutes')\n",
    "travelling_time_126[\"total_travelling_time\"] = travelling_time_126[\"total_travelling_time\"].astype(float)\n",
    "travelling_time_126[\"total_travelling_time\"] = travelling_time_126[\"total_travelling_time\"].abs()\n",
    "travelling_time_126.describe()\n",
    "\n",
    "B126_time = travelling_time_126.groupby([\"126_day_hour\"]).mean()\n",
    "B126_freq = travelling_time_126.groupby([\"126_day_hour\"]).count()\n",
    "B126_resume = pd.concat([B126_time, B126_freq], axis = 1)\n",
    "B126_resume.columns = [\"total_traveling_time\",\"hourly_train_number\"]\n",
    "B126_resume"
   ]
  },
  {
   "cell_type": "markdown",
   "metadata": {
    "extensions": {
     "jupyter_dashboards": {
      "version": 1,
      "views": {
       "grid_default": {},
       "report_default": {
        "hidden": false
       }
      }
     }
    }
   },
   "source": [
    "## Bus H12"
   ]
  },
  {
   "cell_type": "code",
   "execution_count": 86,
   "metadata": {
    "extensions": {
     "jupyter_dashboards": {
      "version": 1,
      "views": {
       "grid_default": {},
       "report_default": {
        "hidden": false
       }
      }
     }
    }
   },
   "outputs": [
    {
     "data": {
      "text/html": [
       "<div>\n",
       "<style scoped>\n",
       "    .dataframe tbody tr th:only-of-type {\n",
       "        vertical-align: middle;\n",
       "    }\n",
       "\n",
       "    .dataframe tbody tr th {\n",
       "        vertical-align: top;\n",
       "    }\n",
       "\n",
       "    .dataframe thead th {\n",
       "        text-align: right;\n",
       "    }\n",
       "</style>\n",
       "<table border=\"1\" class=\"dataframe\">\n",
       "  <thead>\n",
       "    <tr style=\"text-align: right;\">\n",
       "      <th></th>\n",
       "      <th>total_traveling_time</th>\n",
       "      <th>hourly_train_number</th>\n",
       "    </tr>\n",
       "    <tr>\n",
       "      <th>H12_day_hour</th>\n",
       "      <th></th>\n",
       "      <th></th>\n",
       "    </tr>\n",
       "  </thead>\n",
       "  <tbody>\n",
       "    <tr>\n",
       "      <th>6</th>\n",
       "      <td>46.666667</td>\n",
       "      <td>6</td>\n",
       "    </tr>\n",
       "    <tr>\n",
       "      <th>7</th>\n",
       "      <td>54.428571</td>\n",
       "      <td>7</td>\n",
       "    </tr>\n",
       "    <tr>\n",
       "      <th>8</th>\n",
       "      <td>57.857143</td>\n",
       "      <td>7</td>\n",
       "    </tr>\n",
       "    <tr>\n",
       "      <th>9</th>\n",
       "      <td>60.400000</td>\n",
       "      <td>5</td>\n",
       "    </tr>\n",
       "    <tr>\n",
       "      <th>10</th>\n",
       "      <td>58.500000</td>\n",
       "      <td>8</td>\n",
       "    </tr>\n",
       "    <tr>\n",
       "      <th>11</th>\n",
       "      <td>56.666667</td>\n",
       "      <td>3</td>\n",
       "    </tr>\n",
       "    <tr>\n",
       "      <th>12</th>\n",
       "      <td>58.000000</td>\n",
       "      <td>5</td>\n",
       "    </tr>\n",
       "    <tr>\n",
       "      <th>13</th>\n",
       "      <td>57.333333</td>\n",
       "      <td>9</td>\n",
       "    </tr>\n",
       "    <tr>\n",
       "      <th>14</th>\n",
       "      <td>56.777778</td>\n",
       "      <td>9</td>\n",
       "    </tr>\n",
       "    <tr>\n",
       "      <th>15</th>\n",
       "      <td>57.444444</td>\n",
       "      <td>9</td>\n",
       "    </tr>\n",
       "    <tr>\n",
       "      <th>16</th>\n",
       "      <td>59.875000</td>\n",
       "      <td>8</td>\n",
       "    </tr>\n",
       "    <tr>\n",
       "      <th>17</th>\n",
       "      <td>59.166667</td>\n",
       "      <td>6</td>\n",
       "    </tr>\n",
       "    <tr>\n",
       "      <th>18</th>\n",
       "      <td>59.500000</td>\n",
       "      <td>8</td>\n",
       "    </tr>\n",
       "    <tr>\n",
       "      <th>19</th>\n",
       "      <td>58.875000</td>\n",
       "      <td>8</td>\n",
       "    </tr>\n",
       "    <tr>\n",
       "      <th>20</th>\n",
       "      <td>55.875000</td>\n",
       "      <td>8</td>\n",
       "    </tr>\n",
       "    <tr>\n",
       "      <th>21</th>\n",
       "      <td>52.600000</td>\n",
       "      <td>5</td>\n",
       "    </tr>\n",
       "    <tr>\n",
       "      <th>22</th>\n",
       "      <td>49.400000</td>\n",
       "      <td>5</td>\n",
       "    </tr>\n",
       "    <tr>\n",
       "      <th>23</th>\n",
       "      <td>48.333333</td>\n",
       "      <td>3</td>\n",
       "    </tr>\n",
       "  </tbody>\n",
       "</table>\n",
       "</div>"
      ],
      "text/plain": [
       "              total_traveling_time  hourly_train_number\n",
       "H12_day_hour                                           \n",
       "6                        46.666667                    6\n",
       "7                        54.428571                    7\n",
       "8                        57.857143                    7\n",
       "9                        60.400000                    5\n",
       "10                       58.500000                    8\n",
       "11                       56.666667                    3\n",
       "12                       58.000000                    5\n",
       "13                       57.333333                    9\n",
       "14                       56.777778                    9\n",
       "15                       57.444444                    9\n",
       "16                       59.875000                    8\n",
       "17                       59.166667                    6\n",
       "18                       59.500000                    8\n",
       "19                       58.875000                    8\n",
       "20                       55.875000                    8\n",
       "21                       52.600000                    5\n",
       "22                       49.400000                    5\n",
       "23                       48.333333                    3"
      ]
     },
     "execution_count": 86,
     "metadata": {},
     "output_type": "execute_result"
    }
   ],
   "source": [
    "df_H12_a = df_H12[(df_H12[\"start_stop\"] == True)]\n",
    "df_H12_b = df_H12[(df_H12[\"destination\"] == True)]\n",
    "df_H12_full = pd.concat([df_H12_a, df_H12_b]).sort_values(by=['trip_id'])\n",
    "df_H12_full =df_H12_full.reset_index(drop=True)\n",
    "\n",
    "travelling_time_H12 = []\n",
    "for i in range(df_H12_full.shape[0]-1):\n",
    "    if df_H12_full.trip_id[i] == df_H12_full.trip_id[i+1]:       \n",
    "        time_interval = df_H12_full.departure_time[i].components.hours\n",
    "        total_travelling_time = df_H12_full.arrival_time[i+1] -df_H12_full.arrival_time[i]\n",
    "        x = [time_interval,total_travelling_time]\n",
    "        travelling_time_H12.append(x)\n",
    "\n",
    "travelling_time_H12 = pd.DataFrame(travelling_time_H12)\n",
    "travelling_time_H12.head()\n",
    "\n",
    "travelling_time_H12.columns = [\"H12_day_hour\", \"total_travelling_time\"]\n",
    "\n",
    "travelling_time_H12[\"total_travelling_time\"] = travelling_time_H12[\"total_travelling_time\"]/pd.Timedelta('1 minutes')\n",
    "travelling_time_H12[\"total_travelling_time\"] = travelling_time_H12[\"total_travelling_time\"].astype(float)\n",
    "travelling_time_H12[\"total_travelling_time\"] = travelling_time_H12[\"total_travelling_time\"].abs()\n",
    "travelling_time_H12.describe()\n",
    "\n",
    "BH12_time = travelling_time_H12.groupby([\"H12_day_hour\"]).mean()\n",
    "BH12_freq = travelling_time_H12.groupby([\"H12_day_hour\"]).count()\n",
    "BH12_resume = pd.concat([BH12_time, BH12_freq], axis = 1)\n",
    "BH12_resume.columns = [\"total_traveling_time\",\"hourly_train_number\"]\n",
    "BH12_resume"
   ]
  },
  {
   "cell_type": "markdown",
   "metadata": {
    "extensions": {
     "jupyter_dashboards": {
      "version": 1,
      "views": {
       "grid_default": {},
       "report_default": {
        "hidden": false
       }
      }
     }
    }
   },
   "source": [
    "## Bus V19"
   ]
  },
  {
   "cell_type": "code",
   "execution_count": 87,
   "metadata": {
    "extensions": {
     "jupyter_dashboards": {
      "version": 1,
      "views": {
       "grid_default": {},
       "report_default": {
        "hidden": false
       }
      }
     }
    }
   },
   "outputs": [
    {
     "data": {
      "text/html": [
       "<div>\n",
       "<style scoped>\n",
       "    .dataframe tbody tr th:only-of-type {\n",
       "        vertical-align: middle;\n",
       "    }\n",
       "\n",
       "    .dataframe tbody tr th {\n",
       "        vertical-align: top;\n",
       "    }\n",
       "\n",
       "    .dataframe thead th {\n",
       "        text-align: right;\n",
       "    }\n",
       "</style>\n",
       "<table border=\"1\" class=\"dataframe\">\n",
       "  <thead>\n",
       "    <tr style=\"text-align: right;\">\n",
       "      <th></th>\n",
       "      <th>total_traveling_time</th>\n",
       "      <th>hourly_train_number</th>\n",
       "    </tr>\n",
       "    <tr>\n",
       "      <th>V19_day_hour</th>\n",
       "      <th></th>\n",
       "      <th></th>\n",
       "    </tr>\n",
       "  </thead>\n",
       "  <tbody>\n",
       "    <tr>\n",
       "      <th>6</th>\n",
       "      <td>49.000000</td>\n",
       "      <td>1</td>\n",
       "    </tr>\n",
       "    <tr>\n",
       "      <th>7</th>\n",
       "      <td>51.000000</td>\n",
       "      <td>1</td>\n",
       "    </tr>\n",
       "    <tr>\n",
       "      <th>8</th>\n",
       "      <td>59.000000</td>\n",
       "      <td>2</td>\n",
       "    </tr>\n",
       "    <tr>\n",
       "      <th>10</th>\n",
       "      <td>60.000000</td>\n",
       "      <td>1</td>\n",
       "    </tr>\n",
       "    <tr>\n",
       "      <th>11</th>\n",
       "      <td>68.000000</td>\n",
       "      <td>3</td>\n",
       "    </tr>\n",
       "    <tr>\n",
       "      <th>12</th>\n",
       "      <td>68.000000</td>\n",
       "      <td>1</td>\n",
       "    </tr>\n",
       "    <tr>\n",
       "      <th>13</th>\n",
       "      <td>68.000000</td>\n",
       "      <td>2</td>\n",
       "    </tr>\n",
       "    <tr>\n",
       "      <th>14</th>\n",
       "      <td>68.000000</td>\n",
       "      <td>2</td>\n",
       "    </tr>\n",
       "    <tr>\n",
       "      <th>15</th>\n",
       "      <td>63.000000</td>\n",
       "      <td>2</td>\n",
       "    </tr>\n",
       "    <tr>\n",
       "      <th>16</th>\n",
       "      <td>63.000000</td>\n",
       "      <td>1</td>\n",
       "    </tr>\n",
       "    <tr>\n",
       "      <th>17</th>\n",
       "      <td>64.333333</td>\n",
       "      <td>3</td>\n",
       "    </tr>\n",
       "    <tr>\n",
       "      <th>18</th>\n",
       "      <td>67.000000</td>\n",
       "      <td>1</td>\n",
       "    </tr>\n",
       "    <tr>\n",
       "      <th>19</th>\n",
       "      <td>67.000000</td>\n",
       "      <td>3</td>\n",
       "    </tr>\n",
       "    <tr>\n",
       "      <th>20</th>\n",
       "      <td>62.250000</td>\n",
       "      <td>4</td>\n",
       "    </tr>\n",
       "    <tr>\n",
       "      <th>21</th>\n",
       "      <td>61.000000</td>\n",
       "      <td>1</td>\n",
       "    </tr>\n",
       "    <tr>\n",
       "      <th>23</th>\n",
       "      <td>51.000000</td>\n",
       "      <td>1</td>\n",
       "    </tr>\n",
       "  </tbody>\n",
       "</table>\n",
       "</div>"
      ],
      "text/plain": [
       "              total_traveling_time  hourly_train_number\n",
       "V19_day_hour                                           \n",
       "6                        49.000000                    1\n",
       "7                        51.000000                    1\n",
       "8                        59.000000                    2\n",
       "10                       60.000000                    1\n",
       "11                       68.000000                    3\n",
       "12                       68.000000                    1\n",
       "13                       68.000000                    2\n",
       "14                       68.000000                    2\n",
       "15                       63.000000                    2\n",
       "16                       63.000000                    1\n",
       "17                       64.333333                    3\n",
       "18                       67.000000                    1\n",
       "19                       67.000000                    3\n",
       "20                       62.250000                    4\n",
       "21                       61.000000                    1\n",
       "23                       51.000000                    1"
      ]
     },
     "execution_count": 87,
     "metadata": {},
     "output_type": "execute_result"
    }
   ],
   "source": [
    "df_V19_a = df_V19[(df_V19[\"start_stop\"] == True)]\n",
    "df_V19_b = df_V19[(df_V19[\"destination\"] == True)]\n",
    "df_V19_full = pd.concat([df_V19_a, df_V19_b]).sort_values(by=['trip_id'])\n",
    "df_V19_full =df_V19_full.reset_index(drop=True)\n",
    "\n",
    "travelling_time_V19 = []\n",
    "for i in range(df_V19_full.shape[0]-1):\n",
    "    if df_V19_full.trip_id[i] == df_V19_full.trip_id[i+1]:       \n",
    "        time_interval = df_V19_full.departure_time[i].components.hours\n",
    "        total_travelling_time = df_V19_full.arrival_time[i+1] -df_V19_full.arrival_time[i]\n",
    "        x = [time_interval,total_travelling_time]\n",
    "        travelling_time_V19.append(x)\n",
    "\n",
    "travelling_time_V19 = pd.DataFrame(travelling_time_V19)\n",
    "travelling_time_V19.head()\n",
    "\n",
    "travelling_time_V19.columns = [\"V19_day_hour\", \"total_travelling_time\"]\n",
    "\n",
    "travelling_time_V19[\"total_travelling_time\"] = travelling_time_V19[\"total_travelling_time\"]/pd.Timedelta('1 minutes')\n",
    "travelling_time_V19[\"total_travelling_time\"] = travelling_time_V19[\"total_travelling_time\"].astype(float)\n",
    "travelling_time_V19[\"total_travelling_time\"] = travelling_time_V19[\"total_travelling_time\"].abs()\n",
    "travelling_time_V19.describe()\n",
    "\n",
    "BV19_time = travelling_time_V19.groupby([\"V19_day_hour\"]).mean()\n",
    "BV19_freq = travelling_time_V19.groupby([\"V19_day_hour\"]).count()\n",
    "BV19_resume = pd.concat([BV19_time, BV19_freq], axis = 1)\n",
    "BV19_resume.columns = [\"total_traveling_time\",\"hourly_train_number\"]\n",
    "BV19_resume"
   ]
  },
  {
   "cell_type": "markdown",
   "metadata": {
    "extensions": {
     "jupyter_dashboards": {
      "version": 1,
      "views": {
       "grid_default": {},
       "report_default": {
        "hidden": false
       }
      }
     }
    }
   },
   "source": [
    "## Bus D20"
   ]
  },
  {
   "cell_type": "code",
   "execution_count": 88,
   "metadata": {
    "extensions": {
     "jupyter_dashboards": {
      "version": 1,
      "views": {
       "grid_default": {},
       "report_default": {
        "hidden": false
       }
      }
     }
    }
   },
   "outputs": [
    {
     "data": {
      "text/html": [
       "<div>\n",
       "<style scoped>\n",
       "    .dataframe tbody tr th:only-of-type {\n",
       "        vertical-align: middle;\n",
       "    }\n",
       "\n",
       "    .dataframe tbody tr th {\n",
       "        vertical-align: top;\n",
       "    }\n",
       "\n",
       "    .dataframe thead th {\n",
       "        text-align: right;\n",
       "    }\n",
       "</style>\n",
       "<table border=\"1\" class=\"dataframe\">\n",
       "  <thead>\n",
       "    <tr style=\"text-align: right;\">\n",
       "      <th></th>\n",
       "      <th>total_traveling_time</th>\n",
       "      <th>hourly_train_number</th>\n",
       "    </tr>\n",
       "    <tr>\n",
       "      <th>D20_day_hour</th>\n",
       "      <th></th>\n",
       "      <th></th>\n",
       "    </tr>\n",
       "  </thead>\n",
       "  <tbody>\n",
       "    <tr>\n",
       "      <th>6</th>\n",
       "      <td>38.500000</td>\n",
       "      <td>2</td>\n",
       "    </tr>\n",
       "    <tr>\n",
       "      <th>7</th>\n",
       "      <td>40.000000</td>\n",
       "      <td>1</td>\n",
       "    </tr>\n",
       "    <tr>\n",
       "      <th>8</th>\n",
       "      <td>42.333333</td>\n",
       "      <td>3</td>\n",
       "    </tr>\n",
       "    <tr>\n",
       "      <th>9</th>\n",
       "      <td>45.000000</td>\n",
       "      <td>1</td>\n",
       "    </tr>\n",
       "    <tr>\n",
       "      <th>10</th>\n",
       "      <td>49.000000</td>\n",
       "      <td>5</td>\n",
       "    </tr>\n",
       "    <tr>\n",
       "      <th>11</th>\n",
       "      <td>54.500000</td>\n",
       "      <td>2</td>\n",
       "    </tr>\n",
       "    <tr>\n",
       "      <th>12</th>\n",
       "      <td>57.666667</td>\n",
       "      <td>3</td>\n",
       "    </tr>\n",
       "    <tr>\n",
       "      <th>13</th>\n",
       "      <td>57.250000</td>\n",
       "      <td>4</td>\n",
       "    </tr>\n",
       "    <tr>\n",
       "      <th>14</th>\n",
       "      <td>57.000000</td>\n",
       "      <td>1</td>\n",
       "    </tr>\n",
       "    <tr>\n",
       "      <th>15</th>\n",
       "      <td>57.000000</td>\n",
       "      <td>5</td>\n",
       "    </tr>\n",
       "    <tr>\n",
       "      <th>16</th>\n",
       "      <td>57.500000</td>\n",
       "      <td>2</td>\n",
       "    </tr>\n",
       "    <tr>\n",
       "      <th>17</th>\n",
       "      <td>61.333333</td>\n",
       "      <td>3</td>\n",
       "    </tr>\n",
       "    <tr>\n",
       "      <th>18</th>\n",
       "      <td>60.500000</td>\n",
       "      <td>2</td>\n",
       "    </tr>\n",
       "    <tr>\n",
       "      <th>19</th>\n",
       "      <td>60.000000</td>\n",
       "      <td>4</td>\n",
       "    </tr>\n",
       "    <tr>\n",
       "      <th>20</th>\n",
       "      <td>59.000000</td>\n",
       "      <td>2</td>\n",
       "    </tr>\n",
       "    <tr>\n",
       "      <th>21</th>\n",
       "      <td>55.000000</td>\n",
       "      <td>2</td>\n",
       "    </tr>\n",
       "    <tr>\n",
       "      <th>22</th>\n",
       "      <td>53.000000</td>\n",
       "      <td>2</td>\n",
       "    </tr>\n",
       "    <tr>\n",
       "      <th>23</th>\n",
       "      <td>40.000000</td>\n",
       "      <td>1</td>\n",
       "    </tr>\n",
       "  </tbody>\n",
       "</table>\n",
       "</div>"
      ],
      "text/plain": [
       "              total_traveling_time  hourly_train_number\n",
       "D20_day_hour                                           \n",
       "6                        38.500000                    2\n",
       "7                        40.000000                    1\n",
       "8                        42.333333                    3\n",
       "9                        45.000000                    1\n",
       "10                       49.000000                    5\n",
       "11                       54.500000                    2\n",
       "12                       57.666667                    3\n",
       "13                       57.250000                    4\n",
       "14                       57.000000                    1\n",
       "15                       57.000000                    5\n",
       "16                       57.500000                    2\n",
       "17                       61.333333                    3\n",
       "18                       60.500000                    2\n",
       "19                       60.000000                    4\n",
       "20                       59.000000                    2\n",
       "21                       55.000000                    2\n",
       "22                       53.000000                    2\n",
       "23                       40.000000                    1"
      ]
     },
     "execution_count": 88,
     "metadata": {},
     "output_type": "execute_result"
    }
   ],
   "source": [
    "df_D20_a = df_D20[(df_D20[\"start_stop\"] == True)]\n",
    "df_D20_b = df_D20[(df_D20[\"destination\"] == True)]\n",
    "df_D20_full = pd.concat([df_D20_a, df_D20_b]).sort_values(by=['trip_id'])\n",
    "df_D20_full =df_D20_full.reset_index(drop=True)\n",
    "\n",
    "travelling_time_D20 = []\n",
    "for i in range(df_D20_full.shape[0]-1):\n",
    "    if df_D20_full.trip_id[i] == df_D20_full.trip_id[i+1]:       \n",
    "        time_interval = df_D20_full.departure_time[i].components.hours\n",
    "        total_travelling_time = df_D20_full.arrival_time[i+1] -df_D20_full.arrival_time[i]\n",
    "        x = [time_interval,total_travelling_time]\n",
    "        travelling_time_D20.append(x)\n",
    "\n",
    "travelling_time_D20 = pd.DataFrame(travelling_time_D20)\n",
    "travelling_time_D20.head()\n",
    "\n",
    "travelling_time_D20.columns = [\"D20_day_hour\", \"total_travelling_time\"]\n",
    "\n",
    "travelling_time_D20[\"total_travelling_time\"] = travelling_time_D20[\"total_travelling_time\"]/pd.Timedelta('1 minutes')\n",
    "travelling_time_D20[\"total_travelling_time\"] = travelling_time_D20[\"total_travelling_time\"].astype(float)\n",
    "travelling_time_D20[\"total_travelling_time\"] = travelling_time_D20[\"total_travelling_time\"].abs()\n",
    "travelling_time_D20.describe()\n",
    "\n",
    "BD20_time = travelling_time_D20.groupby([\"D20_day_hour\"]).mean()\n",
    "BD20_freq = travelling_time_D20.groupby([\"D20_day_hour\"]).count()\n",
    "BD20_resume = pd.concat([BD20_time, BD20_freq], axis = 1)\n",
    "BD20_resume.columns = [\"total_traveling_time\",\"hourly_train_number\"]\n",
    "BD20_resume"
   ]
  },
  {
   "cell_type": "code",
   "execution_count": null,
   "metadata": {
    "extensions": {
     "jupyter_dashboards": {
      "version": 1,
      "views": {
       "grid_default": {},
       "report_default": {
        "hidden": true
       }
      }
     }
    }
   },
   "outputs": [],
   "source": []
  }
 ],
 "metadata": {
  "extensions": {
   "jupyter_dashboards": {
    "activeView": "report_default",
    "version": 1,
    "views": {
     "grid_default": {
      "cellMargin": 10,
      "defaultCellHeight": 20,
      "maxColumns": 12,
      "name": "grid",
      "type": "grid"
     },
     "report_default": {
      "name": "report",
      "type": "report"
     }
    }
   }
  },
  "kernelspec": {
   "display_name": "Python 3",
   "language": "python",
   "name": "python3"
  },
  "language_info": {
   "codemirror_mode": {
    "name": "ipython",
    "version": 3
   },
   "file_extension": ".py",
   "mimetype": "text/x-python",
   "name": "python",
   "nbconvert_exporter": "python",
   "pygments_lexer": "ipython3",
   "version": "3.6.7"
  }
 },
 "nbformat": 4,
 "nbformat_minor": 2
}
